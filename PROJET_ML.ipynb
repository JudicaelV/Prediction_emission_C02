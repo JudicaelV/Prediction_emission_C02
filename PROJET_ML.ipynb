{
 "cells": [
  {
   "cell_type": "markdown",
   "id": "73ed6546-1b35-46db-b310-7d7af2fb1d4a",
   "metadata": {},
   "source": [
    "# Projet : analyse des impacts environnementaux des services numériques"
   ]
  },
  {
   "cell_type": "markdown",
   "id": "4b72dded-fa7f-4e57-8a4f-b772bdf81e11",
   "metadata": {},
   "source": [
    "# INTRODUCTION GENERALE\n",
    "\n",
    "L'impact environnemental des services numériques, notamment à travers leur empreinte carbone, constitue un enjeu majeur dans un monde de plus en plus connecté. Ce projet vise à analyser et modéliser les relations entre la consommation énergétique, le nombre d'utilisateurs et les émissions de CO2 des services numériques. À l’aide de différentes techniques de machine learning, telles que la régression linéaire, les modèles de classification (KNN) et les méthodes de clustering (K-means et CAH), nous aLLons chercher à identifier les principaux facteurs influençant ces impacts, tout en explorant la pertinence des approches appliquées. Ce travail mettra en lumière les défis liés à la qualité des données et à l'adéquation des modèles, tout en offrant des perspectives pour des analyses futures plus robustes et précises."
   ]
  },
  {
   "cell_type": "markdown",
   "id": "e31798dc-2148-4e44-88a4-0a8301ac68ef",
   "metadata": {},
   "source": [
    "# PARTIE 1 : GENERATION DES DONNEES ARTIFICIELLES"
   ]
  },
  {
   "cell_type": "code",
   "execution_count": null,
   "id": "ab9336e1-bb76-444b-ba8b-551b7e546e2e",
   "metadata": {},
   "outputs": [],
   "source": [
    "\n",
    "#Cette section n'a plus besoin d'etre \" run\" parceque nous l'avons déjà fait pour obtenir le fichicer csv.\n",
    "#Nous ne ferons donc que charger notre fichier csv dans la suite du projet.\n",
    "\n",
    "import numpy as np\n",
    "import pandas as pd\n",
    "\n",
    "np.random.seed(42)  # Pour la reproductibilité\n",
    "# Liste des services numériques\n",
    "services_numeriques = [\n",
    "    \"Streaming vidéo\", \"Recherche sur internet\", \"Réseaux sociaux\", \n",
    "    \"E-commerce\", \"Jeux en ligne\", \"Cloud computing\", \"Email\", \n",
    "    \"Stockage de fichiers\", \"Applications de messagerie\", \"Streaming audio\", \n",
    "    \"Webinaire\", \"Éducation en ligne\", \"Publicité en ligne\", \"Télétravail\", \n",
    "    \"Services bancaires en ligne\", \"Applications de fitness\", \n",
    "    \"Services de réservation\", \"Services de livraison\", \n",
    "    \"Services de santé en ligne\", \"Applications de voyage\", \n",
    "    \"Plateformes de crowdfunding\", \"Forums en ligne\", \"Blogs\", \n",
    "    \"Podcasts\", \"Services de téléphonie\"\n",
    "]\n",
    "\n",
    "# Génération des données artificielles\n",
    "\n",
    "data = {\n",
    "    \"Service numérique\": services_numeriques,\n",
    "    \"Consommation énergétique (kWh)\": np.random.randint(1000, 90000, len(services_numeriques)),  # Entre 1 000 et 90 000 kWh\n",
    "    \"Nombre d'utilisateurs\": np.random.randint(50000, 1000000, len(services_numeriques)),  # Entre 50 000 et 1 000 000 utilisateurs\n",
    "    \"Type d'énergie utilisée\": np.random.choice([\"Renouvelable\", \"Non-renouvelable\"], len(services_numeriques)),\n",
    "    \"Pays\": np.random.choice([\"France\", \"UK\", \"Allemagne\", \"Canada\"], len(services_numeriques)),\n",
    "    \"Émission de CO2 (kg)\": np.random.randint(100, 5000, len(services_numeriques))  # Entre 100 et 5 000 kg de CO2\n",
    "}\n",
    "\n",
    "# Création du DataFrame\n",
    "df = pd.DataFrame(data)\n",
    "\n",
    "# Sauvegarde dans un fichier CSV\n",
    "df.to_csv(\"services_numerica.csv\", index=False)\n",
    "\n",
    "print(\"Le fichier CSV a été généré avec succès.\")\n",
    "\n"
   ]
  },
  {
   "cell_type": "markdown",
   "id": "c4517752-3943-440e-8465-a6de8c85a142",
   "metadata": {},
   "source": [
    "# Partie 2 :  ANALYSE DES DONNEES"
   ]
  },
  {
   "cell_type": "markdown",
   "id": "f3e9782a-2f90-433c-abdc-5171e95c59dc",
   "metadata": {},
   "source": [
    "# Algo 1 : Régression (Prédiction de la quantité de CO2 émise)"
   ]
  },
  {
   "cell_type": "markdown",
   "id": "f402942c-d45e-4cfd-a7f3-5aff1580dabb",
   "metadata": {},
   "source": [
    "## INTRODUCTION\n",
    "\n",
    "Dans un contexte où la transition énergétique et la réduction des émissions de CO₂ sont au cœur des préoccupations globales, **ce projet vise à prédire la quantité de CO₂ émise par les services numériques**. **À partir de données sur la consommation énergétique totale et le nombre d'utilisateurs, nous utiliserons un modèle de régression linéaire pour établir une relation précise entre ces variables et les émissions de CO₂**. En suivant une méthodologie structurée comprenant la préparation et le nettoyage des données, ainsi que l'évaluation du modèle à l'aide de métriques telles que l'Erreur Quadratique Moyenne (MSE) et le Coefficient de Détermination (R²), ce projet permettra d'optimiser la compréhension et la gestion de l'empreinte carbone des services numériques.\n",
    "\n",
    "#### Méthode :  \n",
    "Pour ce faire on va dans un premier temps utiliser la régression linéaire simple pour :\n",
    "1. Prédire la quantité de CO2 émise en fonction de la consommation totale d'énergie en KWh\n",
    "2. Prédire la quantité de CO2 émise en fonction du nombre d'utilisateurs\n",
    "\n",
    "\n",
    "On part donc de l'hypothèse que la consommation énergétique totale a un impact sur la quantité de CO2 énergétique émise et de la même manière la quantité de CO2 émise dépenderaient du nombre d'utilisateurs "
   ]
  },
  {
   "cell_type": "markdown",
   "id": "36597561-07ac-495c-9675-67b02f343a86",
   "metadata": {},
   "source": [
    "## Importation des bibliothèques nécessaires \n"
   ]
  },
  {
   "cell_type": "code",
   "execution_count": 484,
   "id": "9b708178-2f15-4682-8ca5-9f082a4ef1c7",
   "metadata": {},
   "outputs": [],
   "source": [
    "import pandas as pd\n",
    "import numpy as np\n",
    "import matplotlib.pyplot as plt\n",
    "import seaborn as sns \n",
    "from sklearn.model_selection import train_test_split\n",
    "from sklearn.linear_model import LinearRegression\n",
    "from sklearn.metrics import mean_squared_error, r2_score"
   ]
  },
  {
   "cell_type": "markdown",
   "id": "8cf9476b-733b-4c9d-9eb1-b1fb60fb02b4",
   "metadata": {},
   "source": [
    "## Etape 1 : Préparation des données"
   ]
  },
  {
   "cell_type": "code",
   "execution_count": 487,
   "id": "bb244749-6127-413f-bc01-7cf494a5b22c",
   "metadata": {},
   "outputs": [
    {
     "name": "stdout",
     "output_type": "stream",
     "text": [
      "Jeu de données :\n"
     ]
    },
    {
     "data": {
      "text/html": [
       "<div>\n",
       "<style scoped>\n",
       "    .dataframe tbody tr th:only-of-type {\n",
       "        vertical-align: middle;\n",
       "    }\n",
       "\n",
       "    .dataframe tbody tr th {\n",
       "        vertical-align: top;\n",
       "    }\n",
       "\n",
       "    .dataframe thead th {\n",
       "        text-align: right;\n",
       "    }\n",
       "</style>\n",
       "<table border=\"1\" class=\"dataframe\">\n",
       "  <thead>\n",
       "    <tr style=\"text-align: right;\">\n",
       "      <th></th>\n",
       "      <th>Service numérique</th>\n",
       "      <th>Consommation énergétique (kWh)</th>\n",
       "      <th>Nombre d'utilisateurs</th>\n",
       "      <th>Type d'Energie utilisée</th>\n",
       "      <th>Pays</th>\n",
       "      <th>Émission de CO2 (kg)</th>\n",
       "    </tr>\n",
       "  </thead>\n",
       "  <tbody>\n",
       "    <tr>\n",
       "      <th>1</th>\n",
       "      <td>Streaming vidéo</td>\n",
       "      <td>16795</td>\n",
       "      <td>259795</td>\n",
       "      <td>Renouvelable</td>\n",
       "      <td>France</td>\n",
       "      <td>592</td>\n",
       "    </tr>\n",
       "    <tr>\n",
       "      <th>2</th>\n",
       "      <td>Recherche sur internet</td>\n",
       "      <td>1860</td>\n",
       "      <td>487232</td>\n",
       "      <td>Renouvelable</td>\n",
       "      <td>UK</td>\n",
       "      <td>2162</td>\n",
       "    </tr>\n",
       "    <tr>\n",
       "      <th>3</th>\n",
       "      <td>Réseaux sociaux</td>\n",
       "      <td>77820</td>\n",
       "      <td>918040</td>\n",
       "      <td>Renouvelable</td>\n",
       "      <td>Allemagne</td>\n",
       "      <td>3984</td>\n",
       "    </tr>\n",
       "    <tr>\n",
       "      <th>4</th>\n",
       "      <td>E-commerce</td>\n",
       "      <td>55886</td>\n",
       "      <td>501186</td>\n",
       "      <td>Renouvelable</td>\n",
       "      <td>UK</td>\n",
       "      <td>164</td>\n",
       "    </tr>\n",
       "    <tr>\n",
       "      <th>5</th>\n",
       "      <td>Jeux en ligne</td>\n",
       "      <td>7265</td>\n",
       "      <td>157730</td>\n",
       "      <td>Non-renouvelable</td>\n",
       "      <td>Allemagne</td>\n",
       "      <td>2668</td>\n",
       "    </tr>\n",
       "  </tbody>\n",
       "</table>\n",
       "</div>"
      ],
      "text/plain": [
       "        Service numérique  Consommation énergétique (kWh)  \\\n",
       "1         Streaming vidéo                           16795   \n",
       "2  Recherche sur internet                            1860   \n",
       "3         Réseaux sociaux                           77820   \n",
       "4              E-commerce                           55886   \n",
       "5           Jeux en ligne                            7265   \n",
       "\n",
       "   Nombre d'utilisateurs Type d'Energie utilisée       Pays  \\\n",
       "1                 259795            Renouvelable     France   \n",
       "2                 487232            Renouvelable         UK   \n",
       "3                 918040            Renouvelable  Allemagne   \n",
       "4                 501186            Renouvelable         UK   \n",
       "5                 157730        Non-renouvelable  Allemagne   \n",
       "\n",
       "   Émission de CO2 (kg)  \n",
       "1                   592  \n",
       "2                  2162  \n",
       "3                  3984  \n",
       "4                   164  \n",
       "5                  2668  "
      ]
     },
     "execution_count": 487,
     "metadata": {},
     "output_type": "execute_result"
    }
   ],
   "source": [
    "# Importer le fichier CSV\n",
    "import pandas as pd\n",
    "data = pd.read_csv(\"services_numeriques.csv\", index_col=0)\n",
    "\n",
    "# Afficher les premières lignes du DataFrame\n",
    "print(\"Jeu de données :\")\n",
    "data.head()"
   ]
  },
  {
   "cell_type": "code",
   "execution_count": 497,
   "id": "2fde49fa-8041-4f8b-936f-782be299ea55",
   "metadata": {},
   "outputs": [
    {
     "data": {
      "text/html": [
       "<div>\n",
       "<style scoped>\n",
       "    .dataframe tbody tr th:only-of-type {\n",
       "        vertical-align: middle;\n",
       "    }\n",
       "\n",
       "    .dataframe tbody tr th {\n",
       "        vertical-align: top;\n",
       "    }\n",
       "\n",
       "    .dataframe thead th {\n",
       "        text-align: right;\n",
       "    }\n",
       "</style>\n",
       "<table border=\"1\" class=\"dataframe\">\n",
       "  <thead>\n",
       "    <tr style=\"text-align: right;\">\n",
       "      <th></th>\n",
       "      <th>Consommation énergétique (kWh)</th>\n",
       "      <th>Nombre d'utilisateurs</th>\n",
       "      <th>Émission de CO2 (kg)</th>\n",
       "    </tr>\n",
       "  </thead>\n",
       "  <tbody>\n",
       "    <tr>\n",
       "      <th>1</th>\n",
       "      <td>16795</td>\n",
       "      <td>259795</td>\n",
       "      <td>592</td>\n",
       "    </tr>\n",
       "    <tr>\n",
       "      <th>2</th>\n",
       "      <td>1860</td>\n",
       "      <td>487232</td>\n",
       "      <td>2162</td>\n",
       "    </tr>\n",
       "    <tr>\n",
       "      <th>3</th>\n",
       "      <td>77820</td>\n",
       "      <td>918040</td>\n",
       "      <td>3984</td>\n",
       "    </tr>\n",
       "    <tr>\n",
       "      <th>4</th>\n",
       "      <td>55886</td>\n",
       "      <td>501186</td>\n",
       "      <td>164</td>\n",
       "    </tr>\n",
       "    <tr>\n",
       "      <th>5</th>\n",
       "      <td>7265</td>\n",
       "      <td>157730</td>\n",
       "      <td>2668</td>\n",
       "    </tr>\n",
       "  </tbody>\n",
       "</table>\n",
       "</div>"
      ],
      "text/plain": [
       "   Consommation énergétique (kWh)  Nombre d'utilisateurs  Émission de CO2 (kg)\n",
       "1                           16795                 259795                   592\n",
       "2                            1860                 487232                  2162\n",
       "3                           77820                 918040                  3984\n",
       "4                           55886                 501186                   164\n",
       "5                            7265                 157730                  2668"
      ]
     },
     "execution_count": 497,
     "metadata": {},
     "output_type": "execute_result"
    }
   ],
   "source": [
    "# Vérification des colonnes et nettoyage si nécessaire\n",
    "# Supposons que les colonnes pertinentes s'appellent 'Consommation énergétique (kWh)', \n",
    "# 'Nombre d'utilisateurs' et 'Émissions de CO2 (kg)'\n",
    "data = data[['Consommation énergétique (kWh)', 'Nombre d\\'utilisateurs', 'Émission de CO2 (kg)']]\n",
    "data.head()"
   ]
  },
  {
   "cell_type": "markdown",
   "id": "016f4606-1f75-4cb0-afee-6944ef5dfc05",
   "metadata": {},
   "source": [
    "Ainsi dans notre dataset nous avons maintenant que les colonnes qui sont la consommation énergétique(variable explicative), nombre d'utilisateurs(variable explicative) et la quantité de CO2 émise(variable à expliquer)"
   ]
  },
  {
   "cell_type": "markdown",
   "id": "13d37879-054f-4f2b-bca2-777bd59b49df",
   "metadata": {},
   "source": [
    "## Etape 2 :  Nettoyage des données "
   ]
  },
  {
   "cell_type": "code",
   "execution_count": 594,
   "id": "6d076ddc-4b40-43d4-aa42-be11fa0e63bb",
   "metadata": {},
   "outputs": [
    {
     "name": "stdout",
     "output_type": "stream",
     "text": [
      "       Consommation énergétique (kWh)  Nombre d'utilisateurs  \\\n",
      "count                       25.000000              25.000000   \n",
      "mean                     50586.280000          480079.440000   \n",
      "std                      28332.269924          277352.134193   \n",
      "min                       1769.000000           66725.000000   \n",
      "25%                      29693.000000          274538.000000   \n",
      "50%                      60735.000000          487232.000000   \n",
      "75%                      68969.000000          649143.000000   \n",
      "max                      88498.000000          954277.000000   \n",
      "\n",
      "       Émission de CO2 (kg)  \n",
      "count             25.000000  \n",
      "mean            2621.920000  \n",
      "std             1416.978914  \n",
      "min              164.000000  \n",
      "25%             1670.000000  \n",
      "50%             2790.000000  \n",
      "75%             3661.000000  \n",
      "max             4975.000000  \n"
     ]
    }
   ],
   "source": [
    "print(data.describe())  \n",
    "#La fonction describe nous permet d'avoir quelques statistiques sur nos données "
   ]
  },
  {
   "cell_type": "code",
   "execution_count": 505,
   "id": "5833925a-559b-45c8-a2c0-616f08fc4d17",
   "metadata": {},
   "outputs": [
    {
     "data": {
      "text/plain": [
       "Consommation énergétique (kWh)    0\n",
       "Nombre d'utilisateurs             0\n",
       "Émission de CO2 (kg)              0\n",
       "dtype: int64"
      ]
     },
     "execution_count": 505,
     "metadata": {},
     "output_type": "execute_result"
    }
   ],
   "source": [
    "data.isnull().sum()\n",
    "#Vérification des données manquantes"
   ]
  },
  {
   "cell_type": "markdown",
   "id": "e280d065-1aa3-4b9f-af6e-b9fedba02d96",
   "metadata": {},
   "source": [
    "Cette méthode nous indique qu'il n'y a pas de données manquantes dans notre base de données\n",
    "\n",
    "Nous pouvons voir que notre base de données est bien fournie c'est à dire que nous n'avons pas de données manquantes \n",
    "Donc le jeu de données est complet, sans valeurs manquantes, et les statistiques descriptives pour chaque variable le montrent "
   ]
  },
  {
   "cell_type": "markdown",
   "id": "03905958-b7e5-4d58-996e-addabea7c870",
   "metadata": {},
   "source": [
    "#### Visualisation des données \n",
    "Ici nous avons calculer et afficher une matrice de corrélation pour avoir une idée sur la corrélation de nos données "
   ]
  },
  {
   "cell_type": "code",
   "execution_count": 508,
   "id": "08aa99f1-a6f8-4d84-a321-6d7fbff6e1ed",
   "metadata": {},
   "outputs": [
    {
     "data": {
      "image/png": "[encoded data removed]",
      "text/plain": [
       "<Figure size 450x500 with 1 Axes>"
      ]
     },
     "metadata": {},
     "output_type": "display_data"
    },
    {
     "data": {
      "image/png": "[encoded data removed]",
      "text/plain": [
       "<Figure size 450x500 with 1 Axes>"
      ]
     },
     "metadata": {},
     "output_type": "display_data"
    },
    {
     "data": {
      "image/png": "[encoded data removed]",
      "text/plain": [
       "<Figure size 640x480 with 2 Axes>"
      ]
     },
     "metadata": {},
     "output_type": "display_data"
    }
   ],
   "source": [
    "sns.pairplot(data, x_vars=[\"Nombre d'utilisateurs\"], y_vars=['Émission de CO2 (kg)'], height=5, aspect=0.9)\n",
    "plt.show()\n",
    "\n",
    "sns.pairplot(data, x_vars=[\"Consommation énergétique (kWh)\"], y_vars=['Émission de CO2 (kg)'], height=5, aspect=0.9)\n",
    "plt.show()\n",
    "# Matrice de corrélation\n",
    "\n",
    "correlation_matrix = data.corr()\n",
    "sns.heatmap(correlation_matrix, annot=True, cmap=\"YlGnBu\", fmt=\".2f\")\n",
    "plt.title(\"Matrice de correlation\")\n",
    "plt.show()"
   ]
  },
  {
   "cell_type": "markdown",
   "id": "3c45be78-5b3a-454c-9b94-bd4f9139c9f7",
   "metadata": {},
   "source": [
    "De cette matrice il nous ressort que la corrélation entre la variable explicative consommation d'énergie et la variable cible émission de CO2 est très faible. Ce qui nous fait constater que la consommation d'énergie n'a pas un poids significatifs sur l'émission de CO2 donc la relation entre ces données est faible et n'existe presque pas avec le jeu de données dont nous disposons. Cependant la relation entre le nombre d'utilisateurs et l'émission de CO2 est plus forte car ces deux variables sont un peu plus corrélées."
   ]
  },
  {
   "cell_type": "markdown",
   "id": "3b6eae42-952e-41e4-9255-9e86db3ccae2",
   "metadata": {},
   "source": [
    "#### Détection des valeurs abérantes \n",
    "Ce programme permettra de déterminer les données abérantes si il y en a "
   ]
  },
  {
   "cell_type": "code",
   "execution_count": 514,
   "id": "f820fbe3-6518-4d36-9d18-04dce9ddd8e7",
   "metadata": {},
   "outputs": [
    {
     "name": "stdout",
     "output_type": "stream",
     "text": [
      "Valeurs extrêmes détectées :\n",
      "Consommation énergétique (kWh)    0\n",
      "Nombre d'utilisateurs             0\n",
      "Émission de CO2 (kg)              0\n",
      "dtype: int64\n"
     ]
    }
   ],
   "source": [
    "# Calculer les limites avec l'IQR pour chaque variable\n",
    "Q1 = data.quantile(0.25)  # Premier quartile\n",
    "Q3 = data.quantile(0.75)  # Troisième quartile\n",
    "IQR = Q3 - Q1  # Écart interquartile\n",
    "\n",
    "# Limites pour détecter les valeurs extrêmes\n",
    "lower_bound = Q1 - 1.5 * IQR\n",
    "upper_bound = Q3 + 1.5 * IQR\n",
    "\n",
    "# Identifier les valeurs extrêmes\n",
    "outliers = ((data < lower_bound) | (data > upper_bound))\n",
    "print(\"Valeurs extrêmes détectées :\")\n",
    "print(outliers.sum())"
   ]
  },
  {
   "cell_type": "markdown",
   "id": "1a7ea50c-8d53-4507-bcf4-f42f400b5a14",
   "metadata": {},
   "source": [
    "Nous pouvons voir selon les résultats qu'il n'y a pas de données abérantes "
   ]
  },
  {
   "cell_type": "markdown",
   "id": "4f3eb46d-d825-4ca2-a791-e31417d9d118",
   "metadata": {},
   "source": [
    "## Etape 3 :  Séparation des données"
   ]
  },
  {
   "cell_type": "markdown",
   "id": "dff8514b-bfab-4b5a-bdca-79ff59ff2ab8",
   "metadata": {},
   "source": [
    "#### Partie 1 : \n",
    "Prédiction de la quantité de CO2 émise en fonction de la consommation totale d'énergie en KWh"
   ]
  },
  {
   "cell_type": "code",
   "execution_count": 537,
   "id": "c2b1b4e5-5e79-4275-8a0c-daa0b3133778",
   "metadata": {},
   "outputs": [
    {
     "name": "stdout",
     "output_type": "stream",
     "text": [
      "(17, 1)\n",
      "(17,)\n",
      "(8, 1)\n",
      "(8,)\n"
     ]
    }
   ],
   "source": [
    "# Régression linéaire 1 : CO2 en fonction de la consommation énergétique\n",
    "X1 = data[['Consommation énergétique (kWh)']]\n",
    "y1 = data['Émission de CO2 (kg)']\n",
    "# Séparation des données en ensembles d'entraînement et de test\n",
    "X1_train, X1_test, y1_train, y1_test = train_test_split(X1, y1, test_size=0.3, random_state=42)\n",
    "\n",
    "print(X1_train.shape)\n",
    "print(y1_train.shape)\n",
    "print(X1_test.shape)\n",
    "print(y1_test.shape)"
   ]
  },
  {
   "cell_type": "markdown",
   "id": "32d74d17-dcde-4494-9c34-eb2bdf97462a",
   "metadata": {},
   "source": [
    "##### Choix du modèle de régression\n",
    "\n",
    "Régression linéaire simple avec la méthode des Moindre Carrés Ordinaires"
   ]
  },
  {
   "cell_type": "markdown",
   "id": "ec9dff02-d756-41ac-a68d-ad1d5f2abc96",
   "metadata": {},
   "source": [
    "## Etape 4 : Choix du modèle de régression \n",
    "### Régression linéaire simple avec la méthode des Moindre Carrés Ordinaires"
   ]
  },
  {
   "cell_type": "markdown",
   "id": "d3a94500-ec88-4c40-9fa0-afb9b54418b2",
   "metadata": {},
   "source": [
    "## Etape 5 :  Entrainement du modèle"
   ]
  },
  {
   "cell_type": "code",
   "execution_count": 539,
   "id": "13498ea4-ae45-4fac-97f0-78175ed9e4a4",
   "metadata": {},
   "outputs": [
    {
     "name": "stdout",
     "output_type": "stream",
     "text": [
      "Équation de la droite de régression : y = 2846.89 + -0.00 * x\n"
     ]
    }
   ],
   "source": [
    "# Entraînement du modèle sur l'ensemble d'entraînement 70%\n",
    "model1 = LinearRegression()\n",
    "model1.fit(X1_train, y1_train)\n",
    "# Affichage des coefficients\n",
    "b0 = model1.intercept_\n",
    "b1 = model1.coef_[0]\n",
    "print(f\"Équation de la droite de régression : y = {b0:.2f} + {b1:.2f} * x\")"
   ]
  },
  {
   "cell_type": "code",
   "execution_count": 541,
   "id": "9f6d4255-5b72-4c80-a814-0bfbb2344b7d",
   "metadata": {},
   "outputs": [
    {
     "data": {
      "image/png": "[encoded data removed]",
      "text/plain": [
       "<Figure size 640x480 with 1 Axes>"
      ]
     },
     "metadata": {},
     "output_type": "display_data"
    }
   ],
   "source": [
    "# Prédiction et visualisation de la droite de régression sur l'ensemble de test\n",
    "y1_pred = model1.predict(X1_test)\n",
    "# plt.figure(figsize=(10, 7))\n",
    "plt.scatter(X1_test, y1_test, color='blue', label='Données réelles')\n",
    "plt.plot(X1_test, y1_pred, color='red', label='Prédictions')\n",
    "plt.xlabel('Consommation énergétique (kWh)')\n",
    "plt.ylabel('Émissions de CO2 (kg)')\n",
    "plt.title('Régression linéaire : CO2 vs Consommation énergétique')\n",
    "plt.legend()\n",
    "plt.show()"
   ]
  },
  {
   "cell_type": "markdown",
   "id": "06360928-e665-45fb-9037-3870b8800f75",
   "metadata": {},
   "source": [
    "Nous pouvons observer que la droite ne passe pas par les points de notre nuage de points qui représentent l'ensemble de test. On peut déjà s'appuyer sur ce graphique pour dire que cette droite fourni par le modèle ne permet pas de prédire l'émission de CO2 en fonction de la consommation énergétique "
   ]
  },
  {
   "cell_type": "markdown",
   "id": "45272340-5695-47b4-a429-f88e68da40d3",
   "metadata": {},
   "source": [
    "## Etape 6 : Evaluation du modèle"
   ]
  },
  {
   "cell_type": "code",
   "execution_count": 543,
   "id": "9badc5e2-a737-47b0-9f5b-d8108e43000a",
   "metadata": {},
   "outputs": [
    {
     "name": "stdout",
     "output_type": "stream",
     "text": [
      "Coefficient de corrélation linéaire (r) : 0.1251\n",
      "Coefficient de détermination (R^2) : 0.0157\n",
      "Erreur quadratique moyenne (MSE) : 2085554.5288\n"
     ]
    }
   ],
   "source": [
    "# Calcul du coefficient de corrélation avec l'ensemble de test\n",
    "# Données\n",
    "# Calcul du coefficient de corrélation\n",
    "correlation = np.corrcoef(data[\"Consommation énergétique (kWh)\"], data['Émission de CO2 (kg)'])[0, 1]\n",
    "print(f\"Coefficient de corrélation linéaire (r) : {correlation:.4f}\")\n",
    "\n",
    "# Calcul du coefficient de détermination (R2) avec l'ensemble de test\n",
    "#r2_1 = r2_score(y1_test, y1_pred)\n",
    "#print(f\"Coefficient de détermination (R^2) : {r2_1:.4f}\")\n",
    "r2_1 = correlation**2\n",
    "print(f\"Coefficient de détermination (R^2) : {r2_1:.4f}\")\n",
    "# Calcul de l'erreur quadratique moyenne (MSE)\n",
    "mse1 = mean_squared_error(y1_test, y1_pred)\n",
    "print(f\"Erreur quadratique moyenne (MSE) : {mse1:.4f}\")"
   ]
  },
  {
   "cell_type": "markdown",
   "id": "0e732a55-7784-452b-a61f-2c68b2038ae0",
   "metadata": {},
   "source": [
    "Ici en utilisant la méthode model.score(r2_score) qui calcule notre coefficient de détermination nous obtenons une valeur négative pour les données de test parce que notre jeu de test est trop petit donc avec cette méthode donc on a préférer utiliser la corrélation au carré comme aborder dans le cours. Ainsi on déduit que\n",
    "la variable consommation d'énergie explique seulement 1% de la variance de l'émission de CO2.Donc on déduit que \n",
    "la variable consommation totale énergétique n'explique pas la quantité de CO2 émise, ces variables ne sont pas du tout corrélés "
   ]
  },
  {
   "cell_type": "markdown",
   "id": "0e8b1376-a0ed-4f9a-94f6-5e2bdb88081e",
   "metadata": {},
   "source": [
    "##### Choix des meilleurs ( 𝜽 0 , 𝜽 1 ) avec la validation croisée"
   ]
  },
  {
   "cell_type": "code",
   "execution_count": 707,
   "id": "8fe52180-6935-409f-a117-d186bc9d8afb",
   "metadata": {},
   "outputs": [
    {
     "name": "stdout",
     "output_type": "stream",
     "text": [
      "Résultats de la validation croisée :\n",
      "            b0        b1           MSE          MAE        R2\n",
      "0  2759.796164  0.000688  2.438487e+06  1372.374254 -0.426383\n",
      "1  2284.856929  0.005047  9.588865e+05   693.072971 -0.162294\n",
      "2  2329.249605  0.004819  2.654469e+06  1330.221326 -0.000119\n",
      "3  2202.239701  0.008416  1.574567e+06   874.015210 -0.086080\n",
      "4  1851.093875  0.013943  2.862352e+06  1553.725319 -0.239571\n",
      "\n",
      "Meilleurs coefficients basés sur le MSE (Erreur Quadratique Moyenne Minimale) :\n",
      "b0 = 2284.86, b1 = 0.01\n",
      "MSE = 958886.47, MAE = 693.07, R² = -0.16\n",
      "\n",
      "Meilleurs coefficients basés sur le R² (Coefficient de Détermination Maximale) :\n",
      "b0 = 2329.25, b1 = 0.00\n",
      "MSE = 2654469.40, MAE = 1330.22, R² = -0.00\n"
     ]
    }
   ],
   "source": [
    "from sklearn.model_selection import KFold\n",
    "from sklearn.metrics import mean_squared_error, mean_absolute_error, make_scorer\n",
    "import numpy as np\n",
    "# Configuration de la validation croisée\n",
    "kf = KFold(n_splits=5, shuffle=True, random_state=42)\n",
    "\n",
    "# Données (X1 : Consommation énergétique, y1 : Émission de CO2)\n",
    "X1 = data[['Consommation énergétique (kWh)']].values  # Variable explicative\n",
    "y1 = data['Émission de CO2 (kg)'].values  # Variable cible\n",
    "\n",
    "# Liste pour stocker les résultats\n",
    "results = []\n",
    "\n",
    "# Validation croisée\n",
    "for train_index, test_index in kf.split(X1):\n",
    "    X1_train, X1_test = X1[train_index], X1[test_index]\n",
    "    y1_train, y1_test = y1[train_index], y1[test_index]\n",
    "    \n",
    "    # Régression linéaire\n",
    "    model1 = LinearRegression()\n",
    "    model1.fit(X1_train, y1_train)\n",
    "    \n",
    "    # Extraire les coefficients\n",
    "    b0 = model1.intercept_\n",
    "    b1 = model1.coef_[0]\n",
    "    \n",
    "    # Prédictions sur l'ensemble de test\n",
    "    y1_pred = model1.predict(X1_test)\n",
    "    \n",
    "    # Calcul des scores\n",
    "    mse = mean_squared_error(y1_test, y1_pred)\n",
    "    mae = mean_absolute_error(y1_test, y1_pred)\n",
    "    r2 = r2_score(y1_test, y1_pred)\n",
    "    \n",
    "    # Ajouter les résultats à la liste\n",
    "    results.append({'b0': b0, 'b1': b1, 'MSE': mse, 'MAE': mae, 'R2': r2})\n",
    "\n",
    "# Convertir les résultats en DataFrame pour une meilleure visualisation\n",
    "results_df = pd.DataFrame(results)\n",
    "\n",
    "# Identifier les meilleurs coefficients\n",
    "best_mse_row = results_df.loc[results_df['MSE'].idxmin()]  # Meilleur MSE\n",
    "best_r2_row = results_df.loc[results_df['R2'].idxmax()]    # Meilleur R²\n",
    "\n",
    "print(\"Résultats de la validation croisée :\")\n",
    "print(results_df)\n",
    "\n",
    "# Meilleurs coefficients basés sur MSE\n",
    "print(\"\\nMeilleurs coefficients basés sur le MSE (Erreur Quadratique Moyenne Minimale) :\")\n",
    "print(f\"b0 = {best_mse_row['b0']:.2f}, b1 = {best_mse_row['b1']:.2f}\")\n",
    "print(f\"MSE = {best_mse_row['MSE']:.2f}, MAE = {best_mse_row['MAE']:.2f}, R² = {best_mse_row['R2']:.2f}\")\n",
    "\n",
    "# Meilleurs coefficients basés sur R²\n",
    "print(\"\\nMeilleurs coefficients basés sur le R² (Coefficient de Détermination Maximale) :\")\n",
    "print(f\"b0 = {best_r2_row['b0']:.2f}, b1 = {best_r2_row['b1']:.2f}\")\n",
    "print(f\"MSE = {best_r2_row['MSE']:.2f}, MAE = {best_r2_row['MAE']:.2f}, R² = {best_r2_row['R2']:.2f}\")\n"
   ]
  },
  {
   "cell_type": "markdown",
   "id": "ca56c71d-ffad-4605-9c93-607a522f46a6",
   "metadata": {},
   "source": [
    "Ici nous avons essayer de determiner les meilleurs coefficients teta0 et teta1 qui sont aussi b0 et b1 . Nous constatons que les meilleurs coefficients basés sur le R² (Coefficient de Détermination ) sont b0 = 2329.25, b1 = 0.00. Cependant cela ne permet pas de trouver une valeur de R² significatives pour notre jeu de données)."
   ]
  },
  {
   "cell_type": "markdown",
   "id": "9d090961-4bc4-4521-a896-bd173709e37c",
   "metadata": {},
   "source": [
    "Tracer de la droite de régression à partir du meilleur choix possible des valeurs de 𝜽 0 et 𝜽 1 pour notre jeu de données"
   ]
  },
  {
   "cell_type": "code",
   "execution_count": 711,
   "id": "8b6b31c9-d89e-4e85-89db-8c5c13cc0297",
   "metadata": {},
   "outputs": [
    {
     "data": {
      "image/png": "[encoded data removed]",
      "text/plain": [
       "<Figure size 640x480 with 1 Axes>"
      ]
     },
     "metadata": {},
     "output_type": "display_data"
    }
   ],
   "source": [
    "X1 = data[['Consommation énergétique (kWh)']]\n",
    "y1 = data['Émission de CO2 (kg)']\n",
    "# Séparation des données en ensembles d'entraînement et de test\n",
    "X1_train, X1_test, y1_train, y1_test = train_test_split(X1, y1, test_size=0.3, random_state=42)\n",
    "\n",
    "# Meilleurs coefficients basés sur le MSE\n",
    "best_b0 = best_r2_row['b0']\n",
    "best_b1 = best_r2_row['b1']\n",
    "\n",
    "# Générer les prédictions basées sur les meilleurs coefficients\n",
    "x_range = np.linspace(X1_test.min(), X1_test.max(), 100).reshape(-1, 1)  # Générer des points sur la plage des X\n",
    "y_pred = best_b0 + best_b1 * x_range  # Calculer y = b0 + b1 * x\n",
    "\n",
    "# Tracer les points de données réels\n",
    "plt.scatter(X1_test, y1_test, color='blue', label='Données réelles')\n",
    "\n",
    "# Tracer la droite de régression\n",
    "plt.plot(x_range, y_pred, color='red', label=f'Droite de régression (b0={best_b0:.2f}, b1={best_b1:.2f})')\n",
    "\n",
    "# Ajouter des étiquettes et un titre\n",
    "plt.title(\"Régression Linéaire : CO2 vs Consommation Énergétique\")\n",
    "plt.xlabel(\"Consommation énergétique (kWh)\")\n",
    "plt.ylabel(\"Émission de CO2 (kg)\")\n",
    "plt.legend()\n",
    "\n",
    "# Afficher le graphique\n",
    "plt.grid()\n",
    "plt.show()"
   ]
  },
  {
   "cell_type": "markdown",
   "id": "17457b82-32e3-4f92-a69e-859886831ebb",
   "metadata": {},
   "source": [
    "### Partie 2 : \n",
    "Prédiction de la quantité de CO2 émise en fonction du nombre d'utilisateurs"
   ]
  },
  {
   "cell_type": "code",
   "execution_count": 550,
   "id": "86ca136f-df26-4cea-9e50-0b6356c792e9",
   "metadata": {},
   "outputs": [
    {
     "name": "stdout",
     "output_type": "stream",
     "text": [
      "(17, 1)\n",
      "(17,)\n",
      "(8, 1)\n",
      "(8,)\n"
     ]
    }
   ],
   "source": [
    "# Régression linéaire 2 : CO2 en fonction du nombre d'utilisateurs\n",
    "X2 = data[[\"Nombre d'utilisateurs\"]]\n",
    "y2 = data['Émission de CO2 (kg)']\n",
    "#X2 = data['Nombre d\\'utilisateurs'].values.reshape(-1,1)\n",
    "#X = X.values.reshape((X.shape[0], 1))\n",
    "#y2 = data['Émissions de CO2 (kg)'].values\n",
    "# Séparation des données en ensembles d'entraînement et de test\n",
    "X2_train, X2_test, y2_train, y2_test = train_test_split(X2, y2, test_size=0.3, random_state=42)\n",
    "\n",
    "print(X2_train.shape)\n",
    "print(y2_train.shape)\n",
    "print(X2_test.shape)\n",
    "print(y2_test.shape)"
   ]
  },
  {
   "cell_type": "code",
   "execution_count": 552,
   "id": "7ed3b7b4-a9d2-4890-a2b7-95844860c14a",
   "metadata": {},
   "outputs": [
    {
     "name": "stdout",
     "output_type": "stream",
     "text": [
      "Équation de la droite de régression : y = 1655.97 + 0.00 * x\n"
     ]
    }
   ],
   "source": [
    "# Entraînement du modèle sur l'ensemble d'entraînement 70%\n",
    "model2 = LinearRegression()\n",
    "model2.fit(X2_train, y2_train)\n",
    "# Affichage des coefficients\n",
    "b0 = model2.intercept_\n",
    "b1 = model2.coef_[0]\n",
    "print(f\"Équation de la droite de régression : y = {b0:.2f} + {b1:.2f} * x\")"
   ]
  },
  {
   "cell_type": "code",
   "execution_count": 554,
   "id": "b653e3b8-d03c-45de-81e8-de65a64f0fbe",
   "metadata": {},
   "outputs": [
    {
     "data": {
      "image/png": "[encoded data removed]",
      "text/plain": [
       "<Figure size 640x480 with 1 Axes>"
      ]
     },
     "metadata": {},
     "output_type": "display_data"
    }
   ],
   "source": [
    "# Prédiction et visualisation de la droite de régression sur l'ensemble de test\n",
    "y2_pred = model2.predict(X2_test)\n",
    "# plt.figure(figsize=(10, 7))\n",
    "plt.scatter(X2_test, y2_test, color='blue', label='Données réelles')\n",
    "plt.plot(X2_test, y2_pred, color='red', label='Prédictions')\n",
    "plt.xlabel(\"Nombre d'utilisateurs\")\n",
    "plt.ylabel('Émissions de CO2 (kg)')\n",
    "plt.title('Régression linéaire : CO2 vs Nombre d\\'utilisateurs')\n",
    "plt.legend()\n",
    "plt.show()"
   ]
  },
  {
   "cell_type": "markdown",
   "id": "c04c1f86-eca5-4a8b-a058-19c74aedca40",
   "metadata": {},
   "source": [
    "Ici on a une droite un peu plus linéaire cependant elle ne passe toujours pas par les points de notre nuage de données "
   ]
  },
  {
   "cell_type": "code",
   "execution_count": 557,
   "id": "3f723585-8a3e-45a7-8469-40c0dbe4cfe0",
   "metadata": {},
   "outputs": [
    {
     "name": "stdout",
     "output_type": "stream",
     "text": [
      "Coefficient de corrélation linéaire (r) : 0.3642\n",
      "Coefficient de détermination (R^2) : 0.1326\n",
      "Erreur quadratique moyenne (MSE) : 2025854.1709\n"
     ]
    }
   ],
   "source": [
    "# Calcul du coefficient de corrélation avec l'ensemble de test\n",
    "# Données\n",
    "# Calcul du coefficient de corrélation\n",
    "correlation = np.corrcoef(data[\"Nombre d'utilisateurs\"], data['Émission de CO2 (kg)'])[0, 1]\n",
    "print(f\"Coefficient de corrélation linéaire (r) : {correlation:.4f}\")\n",
    "# Calcul du coefficient de détermination (R2) avec l'ensemble de test\n",
    "#r2_2 = r2_score(y2_test, y2_pred)\n",
    "#print(f\"Coefficient de détermination (R^2) : {r2_2:.4f}\")\n",
    "r2_2 = correlation**2\n",
    "print(f\"Coefficient de détermination (R^2) : {r2_2:.4f}\")\n",
    "# Calcul de l'erreur quadratique moyenne (MSE)\n",
    "mse2 = mean_squared_error(y2_test, y2_pred)\n",
    "print(f\"Erreur quadratique moyenne (MSE) : {mse2:.4f}\")"
   ]
  },
  {
   "cell_type": "markdown",
   "id": "dffe0815-55e0-43f1-a1fa-0df11d593724",
   "metadata": {},
   "source": [
    "La variable nombre d'utilisateurs explique seulement 13% de la variance de l'émission de CO2. Ce qui signifie que le modèle de régression linéaire simple ne permet pas de faire de bonnes prédictions sur le jeu de données que nous utilisons. Ce qui est normal car nos données ne sont que peu corrélés  "
   ]
  },
  {
   "cell_type": "markdown",
   "id": "bf4b98e8-7e06-4d5c-842b-6af740552fbf",
   "metadata": {},
   "source": [
    "##### Choix des meilleurs ( 𝜽 0 , 𝜽 1 ) grâce à la validation croisée "
   ]
  },
  {
   "cell_type": "code",
   "execution_count": 714,
   "id": "da521658-b303-4c09-888b-44e2517c1980",
   "metadata": {},
   "outputs": [
    {
     "name": "stdout",
     "output_type": "stream",
     "text": [
      "Résultats de la validation croisée :\n",
      "            b0        b1           MSE          MAE        R2\n",
      "0  1882.085579  0.001947  2.416003e+06  1332.453388 -0.413231\n",
      "1  1319.584153  0.002491  1.816993e+06  1227.471447 -1.202429\n",
      "2  1884.319417  0.001456  1.988654e+06  1172.961935  0.250739\n",
      "3  1680.512125  0.001996  1.482772e+06   932.704323 -0.022764\n",
      "4  1917.932228  0.001363  1.688981e+06  1152.472791  0.268569\n",
      "\n",
      "Meilleurs coefficients basés sur le MSE (Erreur Quadratique Moyenne Minimale) :\n",
      "b0 = 1680.51, b1 = 0.00\n",
      "MSE = 1482772.50, MAE = 932.70, R² = -0.02\n",
      "\n",
      "Meilleurs coefficients basés sur le R² (Coefficient de Détermination Maximale) :\n",
      "b0 = 1917.93, b1 = 0.00\n",
      "MSE = 1688980.80, MAE = 1152.47, R² = 0.27\n"
     ]
    }
   ],
   "source": [
    "from sklearn.model_selection import KFold\n",
    "from sklearn.metrics import mean_squared_error, mean_absolute_error, make_scorer\n",
    "import numpy as np\n",
    "# Configuration de la validation croisée\n",
    "kf = KFold(n_splits=5, shuffle=True, random_state=42)\n",
    "\n",
    "# Données (X1 : Consommation énergétique, y1 : Émission de CO2)\n",
    "X2 = data[['Nombre d\\'utilisateurs']].values  # Variable explicative\n",
    "y2 = data['Émission de CO2 (kg)'].values  # Variable cible\n",
    "\n",
    "# Liste pour stocker les résultats\n",
    "results = []\n",
    "\n",
    "# Validation croisée\n",
    "for train_index, test_index in kf.split(X2):\n",
    "    X2_train, X2_test = X2[train_index], X2[test_index]\n",
    "    y2_train, y2_test = y2[train_index], y2[test_index]\n",
    "    \n",
    "    # Régression linéaire\n",
    "    model2 = LinearRegression()\n",
    "    model2.fit(X2_train, y2_train)\n",
    "    \n",
    "    # Extraire les coefficients\n",
    "    b0 = model2.intercept_\n",
    "    b1 = model2.coef_[0]\n",
    "    \n",
    "    # Prédictions sur l'ensemble de test\n",
    "    y2_pred = model2.predict(X2_test)\n",
    "    \n",
    "    # Calcul des scores\n",
    "    mse = mean_squared_error(y2_test, y2_pred)\n",
    "    mae = mean_absolute_error(y2_test, y2_pred)\n",
    "    r2 = r2_score(y2_test, y2_pred)\n",
    "    \n",
    "    # Ajouter les résultats à la liste\n",
    "    results.append({'b0': b0, 'b1': b1, 'MSE': mse, 'MAE': mae, 'R2': r2})\n",
    "\n",
    "# Convertir les résultats en DataFrame pour une meilleure visualisation\n",
    "results_df = pd.DataFrame(results)\n",
    "\n",
    "# Identifier les meilleurs coefficients\n",
    "best_mse_row = results_df.loc[results_df['MSE'].idxmin()]  # Meilleur MSE\n",
    "best_r2_row = results_df.loc[results_df['R2'].idxmax()]    # Meilleur R²\n",
    "\n",
    "print(\"Résultats de la validation croisée :\")\n",
    "print(results_df)\n",
    "\n",
    "# Meilleurs coefficients basés sur MSE\n",
    "print(\"\\nMeilleurs coefficients basés sur le MSE (Erreur Quadratique Moyenne Minimale) :\")\n",
    "print(f\"b0 = {best_mse_row['b0']:.2f}, b1 = {best_mse_row['b1']:.2f}\")\n",
    "print(f\"MSE = {best_mse_row['MSE']:.2f}, MAE = {best_mse_row['MAE']:.2f}, R² = {best_mse_row['R2']:.2f}\")\n",
    "\n",
    "# Meilleurs coefficients basés sur R²\n",
    "print(\"\\nMeilleurs coefficients basés sur le R² (Coefficient de Détermination Maximale) :\")\n",
    "print(f\"b0 = {best_r2_row['b0']:.2f}, b1 = {best_r2_row['b1']:.2f}\")\n",
    "print(f\"MSE = {best_r2_row['MSE']:.2f}, MAE = {best_r2_row['MAE']:.2f}, R² = {best_r2_row['R2']:.2f}\")\n"
   ]
  },
  {
   "cell_type": "markdown",
   "id": "78ee7784-5e60-4f9b-b480-844c1bd95892",
   "metadata": {},
   "source": [
    "Ici nous avons essayer de determiner les meilleurs coefficients teta0 et teta1 qui sont aussi b0 et b1 . Nous constatons que les meilleurs coefficients basés sur le R² (Coefficient de Détermination ) sont b0 = 1917.93, b1 = 0.00. Et on trouve une meilleure valeur du R² spitulant que la variable cible est expliqué à un taux de 27% par la variable expliacative"
   ]
  },
  {
   "cell_type": "markdown",
   "id": "6f21726e-defa-4a23-84cd-019d59116483",
   "metadata": {},
   "source": [
    "Tracer de la droite de régression à partir du meilleur choix possible des valeurs de  𝜽 0 et 𝜽 1 pour notre jeu de données"
   ]
  },
  {
   "cell_type": "code",
   "execution_count": 718,
   "id": "37cef3a0-56e4-418d-93bb-1c7dad69fa9a",
   "metadata": {},
   "outputs": [
    {
     "data": {
      "image/png": "[encoded data removed]",
      "text/plain": [
       "<Figure size 640x480 with 1 Axes>"
      ]
     },
     "metadata": {},
     "output_type": "display_data"
    }
   ],
   "source": [
    "X2 = data[['Nombre d\\'utilisateurs']]  # Variable explicative\n",
    "y2 = data['Émission de CO2 (kg)']  # Variable cible\n",
    "# Séparation des données en ensembles d'entraînement et de test\n",
    "X2_train, X2_test, y2_train, y2_test = train_test_split(X2, y2, test_size=0.3, random_state=42)\n",
    "\n",
    "# Meilleurs coefficients basés sur le MSE\n",
    "best_b0 = best_r2_row['b0']\n",
    "best_b1 = best_r2_row['b1']\n",
    "\n",
    "# Générer les prédictions basées sur les meilleurs coefficients\n",
    "x_range = np.linspace(X2_test.min(), X2_test.max(), 100).reshape(-1, 1)  # Générer des points sur la plage des X\n",
    "y_pred = best_b0 + best_b1 * x_range  # Calculer y = b0 + b1 * x\n",
    "\n",
    "# Tracer les points de données réels\n",
    "plt.scatter(X2_test, y2_test, color='blue', label='Données réelles')\n",
    "\n",
    "# Tracer la droite de régression\n",
    "plt.plot(x_range, y_pred, color='red', label=f'Droite de régression (b0={best_b0:.2f}, b1={best_b1:.2f})')\n",
    "\n",
    "# Ajouter des étiquettes et un titre\n",
    "plt.title(\"Régression Linéaire : CO2  vs Nombre d'utilisateurs\")\n",
    "plt.xlabel(\"Nombre d'utilisateurs\")\n",
    "plt.ylabel(\"Émission de CO2 (kg)\")\n",
    "plt.legend()\n",
    "\n",
    "# Afficher le graphique\n",
    "plt.grid()\n",
    "plt.show()"
   ]
  },
  {
   "cell_type": "markdown",
   "id": "47348291-5bd6-4143-8b2d-bf185a9acda5",
   "metadata": {},
   "source": [
    "Donc à la fin on obtient une meilleure droite de régression"
   ]
  },
  {
   "cell_type": "markdown",
   "id": "f662cb98-0fdb-4a1e-8df4-0196bb599b89",
   "metadata": {},
   "source": [
    "## VALIDATION DU MODELE"
   ]
  },
  {
   "cell_type": "code",
   "execution_count": 722,
   "id": "fb8035a8-70e5-448f-878d-ab6677adc611",
   "metadata": {},
   "outputs": [
    {
     "name": "stdout",
     "output_type": "stream",
     "text": [
      "Estimation des paramètres : Intercept (β0) = 2305.305339791924, Coefficients (β1) = [0.0062589]\n",
      "Coefficient de détermination R² (sur l'ensemble des données) : 0.015661469868615496\n",
      "Scores R² sur les folds de validation croisée : [-4.26383388e-01 -1.62293955e-01 -1.18620777e-04 -8.60801418e-02\n",
      " -2.39571101e-01]\n",
      "Moyenne des scores R² : -0.18288944121722986\n",
      "Écart-type des scores R² : 0.14539841812173607\n",
      "\n",
      " \n",
      "\n",
      "Estimation des paramètres : Intercept (β0) = 1728.745129648395, Coefficients (β1) = [0.00186047]\n",
      "Coefficient de détermination R² (sur l'ensemble des données) : 0.1326120613125913\n",
      "Scores R² sur les folds de validation croisée : [-0.41323134 -1.2024293   0.25073914 -0.02276378  0.26856938]\n",
      "Moyenne des scores R² : -0.22382317936677767\n",
      "Écart-type des scores R² : 0.5480200901187118\n"
     ]
    }
   ],
   "source": [
    "from sklearn.model_selection import cross_val_score, KFold\n",
    "\n",
    "# Variable explicative ( X1) et variable à expliquer y1\n",
    "X1 = data[['Consommation énergétique (kWh)']].values  # Variable explicative\n",
    "y1 = data['Émission de CO2 (kg)'].values  # Variable cible\n",
    "\n",
    "\n",
    "# Créer le modèle de régression linéaire\n",
    "model1 = LinearRegression()\n",
    "\n",
    "# Entraîner le modèle sur l'ensemble des données\n",
    "model1.fit(X1, y1)\n",
    "\n",
    "# Afficher les coefficients estimés\n",
    "print(f\"Estimation des paramètres : Intercept (β0) = {model1.intercept_}, Coefficients (β1) = {model1.coef_}\")\n",
    "\n",
    "# Calculer le coefficient de détermination R2\n",
    "r2_score = model1.score(X1, y1)\n",
    "print(f\"Coefficient de détermination R² (sur l'ensemble des données) : {r2_score}\")\n",
    "\n",
    "# Appliquer la validation croisée (k-fold = 5 ici)\n",
    "kf = KFold(n_splits=5, shuffle=True, random_state=42)\n",
    "\n",
    "\n",
    "# Appliquer la validation croisée pour calculer R2\n",
    "cross_val_r2 = cross_val_score(model1, X1, y1, cv=kf, scoring='r2')\n",
    "\n",
    "# Afficher les résultats\n",
    "print(\"Scores R² sur les folds de validation croisée :\", cross_val_r2)\n",
    "print(\"Moyenne des scores R² :\", cross_val_r2.mean())\n",
    "print(\"Écart-type des scores R² :\", cross_val_r2.std())\n",
    "\n",
    "\n",
    "# Variable explicative ( X1) et variable à expliquer y1\n",
    "X2 = data[['Nombre d\\'utilisateurs']].values  # Variable explicative\n",
    "y2 = data['Émission de CO2 (kg)'].values  # Variable cible\n",
    "\n",
    "\n",
    "# Créer le modèle de régression linéaire\n",
    "model2 = LinearRegression()\n",
    "\n",
    "# Entraîner le modèle sur l'ensemble des données\n",
    "model2.fit(X2, y2)\n",
    "\n",
    "# Afficher les coefficients estimés\n",
    "print('\\n \\n')\n",
    "print(f\"Estimation des paramètres : Intercept (β0) = {model2.intercept_}, Coefficients (β1) = {model2.coef_}\")\n",
    "\n",
    "# Calculer le coefficient de détermination R2\n",
    "r2_score2 = model2.score(X2, y2)\n",
    "print(f\"Coefficient de détermination R² (sur l'ensemble des données) : {r2_score2}\")\n",
    "\n",
    "# Appliquer la validation croisée (k-fold = 5 ici)\n",
    "kf = KFold(n_splits=5, shuffle=True, random_state=42)\n",
    "\n",
    "\n",
    "# Appliquer la validation croisée pour calculer R2\n",
    "cross_val_r2_2 = cross_val_score(model2, X2, y2, cv=kf, scoring='r2')\n",
    "\n",
    "# Afficher les résultats\n",
    "\n",
    "print(\"Scores R² sur les folds de validation croisée :\", cross_val_r2_2)\n",
    "print(\"Moyenne des scores R² :\", cross_val_r2_2.mean())\n",
    "print(\"Écart-type des scores R² :\", cross_val_r2_2.std())\n",
    "\n"
   ]
  },
  {
   "cell_type": "markdown",
   "id": "85f67f23-6e11-4bd9-905d-b78ed719f5c0",
   "metadata": {},
   "source": [
    "Nous pouvons dire globalement que pour notre jeu de donnée, des deux variables explicatives qui sont la consommation d'énergie et le nombre d'utilisateurs c'est le nombre d'utilisateurs qui arrive à expliquer le mieux la variable cible qui est l'émission de CO2. Cependant du fait que nos variables explicatives ne soit pas assez corrélés à la variable cible, le modèle de regression linéaire devient inapproprié pour ce jeu de donnée. Ce qui donne une faible valeur pour le coefficient de détermination et beaucoup d'erreur de prédiction"
   ]
  },
  {
   "cell_type": "markdown",
   "id": "7e94c68c-a9a5-472f-9181-0a46e1eea120",
   "metadata": {},
   "source": [
    "# CONCLUSION"
   ]
  },
  {
   "cell_type": "markdown",
   "id": "9e610132-5c55-4406-a1be-61439a03b943",
   "metadata": {},
   "source": [
    "La faible performance du modèle peut être attribuée à plusieurs facteurs interdépendants. D'une part, les variables explicatives sélectionnées présentent une relation limitée avec la variable cible, ce qui réduit leur capacité à expliquer les variations observées. D'autre part, l'utilisation de la régression linéaire comme approche peut s'avérer inadéquate pour capturer des relations potentiellement plus complexes entre les données. Enfin, la qualité des données constitue un autre défi, avec la présence de bruit, de valeurs aberrantes, ou encore d'un volume insuffisant d'observations, limitant ainsi la robustesse et la fiabilité des résultats obtenus. Ces éléments soulignent la nécessité d'améliorer la sélection des variables, d'explorer des modèles plus adaptés, et de renforcer la qualité des données utilisées."
   ]
  },
  {
   "cell_type": "markdown",
   "id": "fa99b36b-694b-4ba5-895b-fc1c8434d8b4",
   "metadata": {},
   "source": [
    "# Algo 2 : KNN (Classification de l'efficacité énergétique)\n"
   ]
  },
  {
   "cell_type": "markdown",
   "id": "f20f8d5d-e8dc-4975-b771-ffc4cbc90767",
   "metadata": {},
   "source": [
    "## INTRODUCTION"
   ]
  },
  {
   "cell_type": "markdown",
   "id": "127b38a5-a382-4879-b2bd-9195f54c7fd4",
   "metadata": {},
   "source": [
    "L'impact environnemental des services numériques constitue une préoccupation majeure à l'ère de la transition écologique. Dans ce contexte, ce projet vise à classifier l'efficacité énergétique de ces services en évaluant leur empreinte carbone. En utilisant l'algorithme K-Nearest Neighbors (KNN), l'objectif est de regrouper les services en trois catégories distinctes : faible, moyenne et élevée, sur la base de leurs émissions de CO₂. \n",
    "À travers une méthodologie rigoureuse incluant la préparation des données, l'entraînement du modèle et l'évaluation de ses performances, ce projet contribue à une meilleure compréhension et gestion de la durabilité numérique."
   ]
  },
  {
   "cell_type": "markdown",
   "id": "6e776eb6-5749-4366-bd99-cdf491d302e9",
   "metadata": {},
   "source": [
    "## Etape 1 : Préparation des données "
   ]
  },
  {
   "cell_type": "code",
   "execution_count": 364,
   "id": "493f1722-87a3-4a48-b3dc-c05b63a3ef2d",
   "metadata": {},
   "outputs": [
    {
     "data": {
      "text/html": [
       "<div>\n",
       "<style scoped>\n",
       "    .dataframe tbody tr th:only-of-type {\n",
       "        vertical-align: middle;\n",
       "    }\n",
       "\n",
       "    .dataframe tbody tr th {\n",
       "        vertical-align: top;\n",
       "    }\n",
       "\n",
       "    .dataframe thead th {\n",
       "        text-align: right;\n",
       "    }\n",
       "</style>\n",
       "<table border=\"1\" class=\"dataframe\">\n",
       "  <thead>\n",
       "    <tr style=\"text-align: right;\">\n",
       "      <th></th>\n",
       "      <th>Unnamed: 0</th>\n",
       "      <th>Service numérique</th>\n",
       "      <th>Consommation énergétique (kWh)</th>\n",
       "      <th>Nombre d'utilisateurs</th>\n",
       "      <th>Type d'Energie utilisée</th>\n",
       "      <th>Pays</th>\n",
       "      <th>Émission de CO2 (kg)</th>\n",
       "      <th>Catégorie d'empreinte carbone</th>\n",
       "    </tr>\n",
       "  </thead>\n",
       "  <tbody>\n",
       "    <tr>\n",
       "      <th>0</th>\n",
       "      <td>1</td>\n",
       "      <td>Streaming vidÃ©o</td>\n",
       "      <td>16795</td>\n",
       "      <td>259795</td>\n",
       "      <td>Renouvelable</td>\n",
       "      <td>France</td>\n",
       "      <td>592</td>\n",
       "      <td>faible</td>\n",
       "    </tr>\n",
       "    <tr>\n",
       "      <th>1</th>\n",
       "      <td>2</td>\n",
       "      <td>Recherche sur internet</td>\n",
       "      <td>1860</td>\n",
       "      <td>487232</td>\n",
       "      <td>Renouvelable</td>\n",
       "      <td>UK</td>\n",
       "      <td>2162</td>\n",
       "      <td>moyenne</td>\n",
       "    </tr>\n",
       "    <tr>\n",
       "      <th>2</th>\n",
       "      <td>3</td>\n",
       "      <td>RÃ©seaux sociaux</td>\n",
       "      <td>77820</td>\n",
       "      <td>918040</td>\n",
       "      <td>Renouvelable</td>\n",
       "      <td>Allemagne</td>\n",
       "      <td>3984</td>\n",
       "      <td>élevée</td>\n",
       "    </tr>\n",
       "    <tr>\n",
       "      <th>3</th>\n",
       "      <td>4</td>\n",
       "      <td>E-commerce</td>\n",
       "      <td>55886</td>\n",
       "      <td>501186</td>\n",
       "      <td>Renouvelable</td>\n",
       "      <td>UK</td>\n",
       "      <td>164</td>\n",
       "      <td>faible</td>\n",
       "    </tr>\n",
       "    <tr>\n",
       "      <th>4</th>\n",
       "      <td>5</td>\n",
       "      <td>Jeux en ligne</td>\n",
       "      <td>7265</td>\n",
       "      <td>157730</td>\n",
       "      <td>Non-renouvelable</td>\n",
       "      <td>Allemagne</td>\n",
       "      <td>2668</td>\n",
       "      <td>moyenne</td>\n",
       "    </tr>\n",
       "    <tr>\n",
       "      <th>5</th>\n",
       "      <td>6</td>\n",
       "      <td>Cloud computing</td>\n",
       "      <td>83386</td>\n",
       "      <td>871910</td>\n",
       "      <td>Non-renouvelable</td>\n",
       "      <td>Allemagne</td>\n",
       "      <td>2127</td>\n",
       "      <td>faible</td>\n",
       "    </tr>\n",
       "    <tr>\n",
       "      <th>6</th>\n",
       "      <td>7</td>\n",
       "      <td>Email</td>\n",
       "      <td>38194</td>\n",
       "      <td>385681</td>\n",
       "      <td>Renouvelable</td>\n",
       "      <td>UK</td>\n",
       "      <td>2795</td>\n",
       "      <td>moyenne</td>\n",
       "    </tr>\n",
       "    <tr>\n",
       "      <th>7</th>\n",
       "      <td>8</td>\n",
       "      <td>Stockage de fichiers</td>\n",
       "      <td>88498</td>\n",
       "      <td>150503</td>\n",
       "      <td>Non-renouvelable</td>\n",
       "      <td>Canada</td>\n",
       "      <td>1595</td>\n",
       "      <td>faible</td>\n",
       "    </tr>\n",
       "    <tr>\n",
       "      <th>8</th>\n",
       "      <td>9</td>\n",
       "      <td>Applications de messagerie</td>\n",
       "      <td>45131</td>\n",
       "      <td>655811</td>\n",
       "      <td>Non-renouvelable</td>\n",
       "      <td>Allemagne</td>\n",
       "      <td>491</td>\n",
       "      <td>faible</td>\n",
       "    </tr>\n",
       "    <tr>\n",
       "      <th>9</th>\n",
       "      <td>10</td>\n",
       "      <td>Streaming audio</td>\n",
       "      <td>61263</td>\n",
       "      <td>528035</td>\n",
       "      <td>Non-renouvelable</td>\n",
       "      <td>Allemagne</td>\n",
       "      <td>4614</td>\n",
       "      <td>élevée</td>\n",
       "    </tr>\n",
       "    <tr>\n",
       "      <th>10</th>\n",
       "      <td>11</td>\n",
       "      <td>Webinaire</td>\n",
       "      <td>17023</td>\n",
       "      <td>649143</td>\n",
       "      <td>Non-renouvelable</td>\n",
       "      <td>UK</td>\n",
       "      <td>4574</td>\n",
       "      <td>élevée</td>\n",
       "    </tr>\n",
       "    <tr>\n",
       "      <th>11</th>\n",
       "      <td>12</td>\n",
       "      <td>Ã‰ducation en ligne</td>\n",
       "      <td>42090</td>\n",
       "      <td>453366</td>\n",
       "      <td>Renouvelable</td>\n",
       "      <td>Allemagne</td>\n",
       "      <td>3661</td>\n",
       "      <td>élevée</td>\n",
       "    </tr>\n",
       "    <tr>\n",
       "      <th>12</th>\n",
       "      <td>13</td>\n",
       "      <td>PublicitÃ© en ligne</td>\n",
       "      <td>68221</td>\n",
       "      <td>66725</td>\n",
       "      <td>Non-renouvelable</td>\n",
       "      <td>Allemagne</td>\n",
       "      <td>2378</td>\n",
       "      <td>moyenne</td>\n",
       "    </tr>\n",
       "    <tr>\n",
       "      <th>13</th>\n",
       "      <td>14</td>\n",
       "      <td>TÃ©lÃ©travail</td>\n",
       "      <td>65820</td>\n",
       "      <td>130981</td>\n",
       "      <td>Renouvelable</td>\n",
       "      <td>UK</td>\n",
       "      <td>3199</td>\n",
       "      <td>moyenne</td>\n",
       "    </tr>\n",
       "    <tr>\n",
       "      <th>14</th>\n",
       "      <td>15</td>\n",
       "      <td>Services bancaires en ligne</td>\n",
       "      <td>1769</td>\n",
       "      <td>85654</td>\n",
       "      <td>Non-renouvelable</td>\n",
       "      <td>UK</td>\n",
       "      <td>300</td>\n",
       "      <td>faible</td>\n",
       "    </tr>\n",
       "    <tr>\n",
       "      <th>15</th>\n",
       "      <td>16</td>\n",
       "      <td>Applications de fitness</td>\n",
       "      <td>60735</td>\n",
       "      <td>954277</td>\n",
       "      <td>Non-renouvelable</td>\n",
       "      <td>France</td>\n",
       "      <td>4975</td>\n",
       "      <td>élevée</td>\n",
       "    </tr>\n",
       "    <tr>\n",
       "      <th>16</th>\n",
       "      <td>17</td>\n",
       "      <td>Services de rÃ©servation</td>\n",
       "      <td>63955</td>\n",
       "      <td>906778</td>\n",
       "      <td>Non-renouvelable</td>\n",
       "      <td>Canada</td>\n",
       "      <td>3204</td>\n",
       "      <td>élevée</td>\n",
       "    </tr>\n",
       "    <tr>\n",
       "      <th>17</th>\n",
       "      <td>18</td>\n",
       "      <td>Services de livraison</td>\n",
       "      <td>65925</td>\n",
       "      <td>592723</td>\n",
       "      <td>Renouvelable</td>\n",
       "      <td>Canada</td>\n",
       "      <td>4698</td>\n",
       "      <td>élevée</td>\n",
       "    </tr>\n",
       "    <tr>\n",
       "      <th>18</th>\n",
       "      <td>19</td>\n",
       "      <td>Services de santÃ© en ligne</td>\n",
       "      <td>68969</td>\n",
       "      <td>320030</td>\n",
       "      <td>Non-renouvelable</td>\n",
       "      <td>Allemagne</td>\n",
       "      <td>2554</td>\n",
       "      <td>moyenne</td>\n",
       "    </tr>\n",
       "    <tr>\n",
       "      <th>19</th>\n",
       "      <td>20</td>\n",
       "      <td>Applications de voyage</td>\n",
       "      <td>6311</td>\n",
       "      <td>329947</td>\n",
       "      <td>Renouvelable</td>\n",
       "      <td>Canada</td>\n",
       "      <td>3745</td>\n",
       "      <td>élevée</td>\n",
       "    </tr>\n",
       "    <tr>\n",
       "      <th>20</th>\n",
       "      <td>21</td>\n",
       "      <td>Plateformes de crowdfunding</td>\n",
       "      <td>84104</td>\n",
       "      <td>556839</td>\n",
       "      <td>Non-renouvelable</td>\n",
       "      <td>Allemagne</td>\n",
       "      <td>904</td>\n",
       "      <td>faible</td>\n",
       "    </tr>\n",
       "    <tr>\n",
       "      <th>21</th>\n",
       "      <td>22</td>\n",
       "      <td>Forums en ligne</td>\n",
       "      <td>54707</td>\n",
       "      <td>903648</td>\n",
       "      <td>Renouvelable</td>\n",
       "      <td>France</td>\n",
       "      <td>2831</td>\n",
       "      <td>moyenne</td>\n",
       "    </tr>\n",
       "    <tr>\n",
       "      <th>22</th>\n",
       "      <td>23</td>\n",
       "      <td>Blogs</td>\n",
       "      <td>86305</td>\n",
       "      <td>274538</td>\n",
       "      <td>Non-renouvelable</td>\n",
       "      <td>UK</td>\n",
       "      <td>2873</td>\n",
       "      <td>moyenne</td>\n",
       "    </tr>\n",
       "    <tr>\n",
       "      <th>23</th>\n",
       "      <td>24</td>\n",
       "      <td>Podcasts</td>\n",
       "      <td>29693</td>\n",
       "      <td>332236</td>\n",
       "      <td>Renouvelable</td>\n",
       "      <td>UK</td>\n",
       "      <td>1670</td>\n",
       "      <td>faible</td>\n",
       "    </tr>\n",
       "    <tr>\n",
       "      <th>24</th>\n",
       "      <td>25</td>\n",
       "      <td>Services de tÃ©lÃ©phonie</td>\n",
       "      <td>72932</td>\n",
       "      <td>529178</td>\n",
       "      <td>Renouvelable</td>\n",
       "      <td>UK</td>\n",
       "      <td>2790</td>\n",
       "      <td>moyenne</td>\n",
       "    </tr>\n",
       "  </tbody>\n",
       "</table>\n",
       "</div>"
      ],
      "text/plain": [
       "    Unnamed: 0            Service numérique  Consommation énergétique (kWh)  \\\n",
       "0            1             Streaming vidÃ©o                           16795   \n",
       "1            2       Recherche sur internet                            1860   \n",
       "2            3             RÃ©seaux sociaux                           77820   \n",
       "3            4                   E-commerce                           55886   \n",
       "4            5                Jeux en ligne                            7265   \n",
       "5            6              Cloud computing                           83386   \n",
       "6            7                        Email                           38194   \n",
       "7            8         Stockage de fichiers                           88498   \n",
       "8            9   Applications de messagerie                           45131   \n",
       "9           10              Streaming audio                           61263   \n",
       "10          11                    Webinaire                           17023   \n",
       "11          12          Ã‰ducation en ligne                           42090   \n",
       "12          13          PublicitÃ© en ligne                           68221   \n",
       "13          14                TÃ©lÃ©travail                           65820   \n",
       "14          15  Services bancaires en ligne                            1769   \n",
       "15          16      Applications de fitness                           60735   \n",
       "16          17     Services de rÃ©servation                           63955   \n",
       "17          18        Services de livraison                           65925   \n",
       "18          19  Services de santÃ© en ligne                           68969   \n",
       "19          20       Applications de voyage                            6311   \n",
       "20          21  Plateformes de crowdfunding                           84104   \n",
       "21          22              Forums en ligne                           54707   \n",
       "22          23                        Blogs                           86305   \n",
       "23          24                     Podcasts                           29693   \n",
       "24          25     Services de tÃ©lÃ©phonie                           72932   \n",
       "\n",
       "    Nombre d'utilisateurs Type d'Energie utilisée       Pays  \\\n",
       "0                  259795            Renouvelable     France   \n",
       "1                  487232            Renouvelable         UK   \n",
       "2                  918040            Renouvelable  Allemagne   \n",
       "3                  501186            Renouvelable         UK   \n",
       "4                  157730        Non-renouvelable  Allemagne   \n",
       "5                  871910        Non-renouvelable  Allemagne   \n",
       "6                  385681            Renouvelable         UK   \n",
       "7                  150503        Non-renouvelable     Canada   \n",
       "8                  655811        Non-renouvelable  Allemagne   \n",
       "9                  528035        Non-renouvelable  Allemagne   \n",
       "10                 649143        Non-renouvelable         UK   \n",
       "11                 453366            Renouvelable  Allemagne   \n",
       "12                  66725        Non-renouvelable  Allemagne   \n",
       "13                 130981            Renouvelable         UK   \n",
       "14                  85654        Non-renouvelable         UK   \n",
       "15                 954277        Non-renouvelable     France   \n",
       "16                 906778        Non-renouvelable     Canada   \n",
       "17                 592723            Renouvelable     Canada   \n",
       "18                 320030        Non-renouvelable  Allemagne   \n",
       "19                 329947            Renouvelable     Canada   \n",
       "20                 556839        Non-renouvelable  Allemagne   \n",
       "21                 903648            Renouvelable     France   \n",
       "22                 274538        Non-renouvelable         UK   \n",
       "23                 332236            Renouvelable         UK   \n",
       "24                 529178            Renouvelable         UK   \n",
       "\n",
       "    Émission de CO2 (kg) Catégorie d'empreinte carbone  \n",
       "0                    592                        faible  \n",
       "1                   2162                       moyenne  \n",
       "2                   3984                        élevée  \n",
       "3                    164                        faible  \n",
       "4                   2668                       moyenne  \n",
       "5                   2127                        faible  \n",
       "6                   2795                       moyenne  \n",
       "7                   1595                        faible  \n",
       "8                    491                        faible  \n",
       "9                   4614                        élevée  \n",
       "10                  4574                        élevée  \n",
       "11                  3661                        élevée  \n",
       "12                  2378                       moyenne  \n",
       "13                  3199                       moyenne  \n",
       "14                   300                        faible  \n",
       "15                  4975                        élevée  \n",
       "16                  3204                        élevée  \n",
       "17                  4698                        élevée  \n",
       "18                  2554                       moyenne  \n",
       "19                  3745                        élevée  \n",
       "20                   904                        faible  \n",
       "21                  2831                       moyenne  \n",
       "22                  2873                       moyenne  \n",
       "23                  1670                        faible  \n",
       "24                  2790                       moyenne  "
      ]
     },
     "execution_count": 364,
     "metadata": {},
     "output_type": "execute_result"
    }
   ],
   "source": [
    "# Nous allons d'abord diviser la variable \"Émission de CO2 (kg)\" en catégories : \"faible\", \"moyenne\", \"élevée\". \n",
    "#Nous utiliserons les quantiles pour définir ces catégories.\n",
    "\n",
    "import pandas as pd\n",
    "import numpy as np\n",
    "\n",
    "df = pd.read_csv(\"services_numeriques.csv\")\n",
    "\n",
    "bins = [0, df['Émission de CO2 (kg)'].quantile(0.33), df['Émission de CO2 (kg)'].quantile(0.67), df['Émission de CO2 (kg)'].max()]\n",
    "labels = ['faible', 'moyenne', 'élevée']\n",
    "df['Catégorie d\\'empreinte carbone'] = pd.cut(df['Émission de CO2 (kg)'], bins=bins, labels=labels)\n",
    "\n",
    "df"
   ]
  },
  {
   "cell_type": "markdown",
   "id": "855f6a9d-6526-4973-8bc0-58bacaa419ec",
   "metadata": {},
   "source": [
    "## Visualisation de la répartition des catégories "
   ]
  },
  {
   "cell_type": "code",
   "execution_count": 292,
   "id": "841d8257-ba51-472a-a1f9-ddbf11ae24cd",
   "metadata": {},
   "outputs": [
    {
     "data": {
      "image/png": "[encoded data removed]",
      "text/plain": [
       "<Figure size 800x600 with 1 Axes>"
      ]
     },
     "metadata": {},
     "output_type": "display_data"
    }
   ],
   "source": [
    "import matplotlib.pyplot as plt\n",
    "\n",
    "# Visualiser la répartition des catégories\n",
    "category_distribution = df[\"Catégorie d\\'empreinte carbone\"].value_counts()\n",
    "\n",
    "plt.figure(figsize=(8, 6))\n",
    "category_distribution.plot(kind='bar', color=['orange', 'green', 'red'])\n",
    "plt.title(\"Répartition des catégories de CO2\")\n",
    "plt.xlabel(\"Catégorie d\\'empreinte carbone\")\n",
    "plt.ylabel(\"Nombre de services numériques\")\n",
    "plt.xticks(rotation=0)\n",
    "plt.grid(axis='y', linestyle='--', alpha=0.7)\n",
    "plt.tight_layout()\n",
    "plt.show()\n"
   ]
  },
  {
   "cell_type": "markdown",
   "id": "d2eca407-9eb3-415a-bdb9-f87a363ac032",
   "metadata": {},
   "source": [
    "## Etape 2: Séparation des données "
   ]
  },
  {
   "cell_type": "code",
   "execution_count": 294,
   "id": "d59f7ce7-2d71-4658-9574-717fb3b09ca4",
   "metadata": {},
   "outputs": [
    {
     "name": "stdout",
     "output_type": "stream",
     "text": [
      "Taille de l'ensemble d'entraînement : 17 exemples\n",
      "Taille de l'ensemble de test : 8 exemples\n"
     ]
    }
   ],
   "source": [
    "from sklearn.model_selection import train_test_split\n",
    "\n",
    "# Variables explicatives et cible\n",
    "X = df[['Consommation énergétique (kWh)', 'Nombre d\\'utilisateurs']]\n",
    "y = df['Catégorie d\\'empreinte carbone']\n",
    "\n",
    "# Séparation des données en ensembles d'entraînement et de test\n",
    "X_train, X_test, y_train, y_test = train_test_split(X, y, test_size=0.3, random_state=42)\n",
    "\n",
    "# Afficher les tailles des ensembles\n",
    "print(f\"Taille de l'ensemble d'entraînement : {X_train.shape[0]} exemples\")\n",
    "print(f\"Taille de l'ensemble de test : {X_test.shape[0]} exemples\")\n"
   ]
  },
  {
   "cell_type": "code",
   "execution_count": null,
   "id": "0f1fadb8-b7a1-4515-8009-3406e00a594f",
   "metadata": {},
   "outputs": [],
   "source": []
  },
  {
   "cell_type": "markdown",
   "id": "593c33b9-c7bb-4e5e-a748-4348d0ac602c",
   "metadata": {},
   "source": [
    "## Étape 3 : Choix du modèle KNN\r"
   ]
  },
  {
   "cell_type": "code",
   "execution_count": 298,
   "id": "513146b7-ad54-42b8-a7bc-16a713429bbf",
   "metadata": {},
   "outputs": [
    {
     "name": "stdout",
     "output_type": "stream",
     "text": [
      "Meilleur K: 7 avec une précision de 0.50\n"
     ]
    }
   ],
   "source": [
    "#Nous allons utiliser l'algorithme KNN et essayer plusieurs valeurs de K pour trouver la meilleure.\n",
    "\n",
    "from sklearn.neighbors import KNeighborsClassifier\n",
    "from sklearn.metrics import accuracy_score, confusion_matrix, classification_report\n",
    "\n",
    "import matplotlib.pyplot as plt\n",
    "\n",
    "# Essayer plusieurs valeurs de K\n",
    "k_values = range(1,18) #on fais varier k entre 1 et 18 parceque selon les principes de KNN, le k doit etre au plus égal au nombre de données du jeu \n",
    "                        #d'entrainement ( ce qui est 18 dans notre cas ici. la fonction range prenant les valeurs de 1 à n-1 donc il s'arrete à 18 \n",
    "\n",
    "best_k = 1\n",
    "best_accuracy = 0\n",
    "\n",
    "for k in k_values:\n",
    "    model = KNeighborsClassifier(n_neighbors=k)\n",
    "    model.fit(X_train, y_train)\n",
    "    y_pred = model.predict(X_test)\n",
    "    accuracy = accuracy_score(y_test, y_pred)\n",
    "    \n",
    "    if accuracy > best_accuracy:\n",
    "        best_accuracy = accuracy\n",
    "        best_k = k\n",
    "\n",
    "print(f\"Meilleur K: {best_k} avec une précision de {best_accuracy:.2f}\")\n",
    "\n"
   ]
  },
  {
   "cell_type": "markdown",
   "id": "9b4ef255-0d79-4720-a27e-e81749a60167",
   "metadata": {},
   "source": [
    "Nous constatons que le meilleur k est k=7, ce qui n'est pas loin de la racine carrée (5) exacte du jeu de données total(25). Or d'après le cours: En pratique, la valeur optimale de k conseillée est la racine carrée de N, où N est le nombre total d'échantillons.Nous estimons donc que notre modèle a pu déterminer de façon approximative le K idéal quand bien même que la précision est de 50% (ce qui est normal vu la plage de valeurs k que nous avons proposé)."
   ]
  },
  {
   "cell_type": "markdown",
   "id": "f0bd120e-f699-4aa1-808b-207d96481faa",
   "metadata": {},
   "source": [
    "## Etape 4: Entrainement du modèle"
   ]
  },
  {
   "cell_type": "code",
   "execution_count": null,
   "id": "5c4f6249-eea4-4f1e-9e84-b83587375050",
   "metadata": {},
   "outputs": [],
   "source": [
    "\n"
   ]
  },
  {
   "cell_type": "code",
   "execution_count": 302,
   "id": "1d6f34ef-3473-4454-b25e-ddc270511a91",
   "metadata": {},
   "outputs": [
    {
     "data": {
      "text/html": [
       "<style>#sk-container-id-8 {\n",
       "  /* Definition of color scheme common for light and dark mode */\n",
       "  --sklearn-color-text: black;\n",
       "  --sklearn-color-line: gray;\n",
       "  /* Definition of color scheme for unfitted estimators */\n",
       "  --sklearn-color-unfitted-level-0: #fff5e6;\n",
       "  --sklearn-color-unfitted-level-1: #f6e4d2;\n",
       "  --sklearn-color-unfitted-level-2: #ffe0b3;\n",
       "  --sklearn-color-unfitted-level-3: chocolate;\n",
       "  /* Definition of color scheme for fitted estimators */\n",
       "  --sklearn-color-fitted-level-0: #f0f8ff;\n",
       "  --sklearn-color-fitted-level-1: #d4ebff;\n",
       "  --sklearn-color-fitted-level-2: #b3dbfd;\n",
       "  --sklearn-color-fitted-level-3: cornflowerblue;\n",
       "\n",
       "  /* Specific color for light theme */\n",
       "  --sklearn-color-text-on-default-background: var(--sg-text-color, var(--theme-code-foreground, var(--jp-content-font-color1, black)));\n",
       "  --sklearn-color-background: var(--sg-background-color, var(--theme-background, var(--jp-layout-color0, white)));\n",
       "  --sklearn-color-border-box: var(--sg-text-color, var(--theme-code-foreground, var(--jp-content-font-color1, black)));\n",
       "  --sklearn-color-icon: #696969;\n",
       "\n",
       "  @media (prefers-color-scheme: dark) {\n",
       "    /* Redefinition of color scheme for dark theme */\n",
       "    --sklearn-color-text-on-default-background: var(--sg-text-color, var(--theme-code-foreground, var(--jp-content-font-color1, white)));\n",
       "    --sklearn-color-background: var(--sg-background-color, var(--theme-background, var(--jp-layout-color0, #111)));\n",
       "    --sklearn-color-border-box: var(--sg-text-color, var(--theme-code-foreground, var(--jp-content-font-color1, white)));\n",
       "    --sklearn-color-icon: #878787;\n",
       "  }\n",
       "}\n",
       "\n",
       "#sk-container-id-8 {\n",
       "  color: var(--sklearn-color-text);\n",
       "}\n",
       "\n",
       "#sk-container-id-8 pre {\n",
       "  padding: 0;\n",
       "}\n",
       "\n",
       "#sk-container-id-8 input.sk-hidden--visually {\n",
       "  border: 0;\n",
       "  clip: rect(1px 1px 1px 1px);\n",
       "  clip: rect(1px, 1px, 1px, 1px);\n",
       "  height: 1px;\n",
       "  margin: -1px;\n",
       "  overflow: hidden;\n",
       "  padding: 0;\n",
       "  position: absolute;\n",
       "  width: 1px;\n",
       "}\n",
       "\n",
       "#sk-container-id-8 div.sk-dashed-wrapped {\n",
       "  border: 1px dashed var(--sklearn-color-line);\n",
       "  margin: 0 0.4em 0.5em 0.4em;\n",
       "  box-sizing: border-box;\n",
       "  padding-bottom: 0.4em;\n",
       "  background-color: var(--sklearn-color-background);\n",
       "}\n",
       "\n",
       "#sk-container-id-8 div.sk-container {\n",
       "  /* jupyter's `normalize.less` sets `[hidden] { display: none; }`\n",
       "     but bootstrap.min.css set `[hidden] { display: none !important; }`\n",
       "     so we also need the `!important` here to be able to override the\n",
       "     default hidden behavior on the sphinx rendered scikit-learn.org.\n",
       "     See: https://github.com/scikit-learn/scikit-learn/issues/21755 */\n",
       "  display: inline-block !important;\n",
       "  position: relative;\n",
       "}\n",
       "\n",
       "#sk-container-id-8 div.sk-text-repr-fallback {\n",
       "  display: none;\n",
       "}\n",
       "\n",
       "div.sk-parallel-item,\n",
       "div.sk-serial,\n",
       "div.sk-item {\n",
       "  /* draw centered vertical line to link estimators */\n",
       "  background-image: linear-gradient(var(--sklearn-color-text-on-default-background), var(--sklearn-color-text-on-default-background));\n",
       "  background-size: 2px 100%;\n",
       "  background-repeat: no-repeat;\n",
       "  background-position: center center;\n",
       "}\n",
       "\n",
       "/* Parallel-specific style estimator block */\n",
       "\n",
       "#sk-container-id-8 div.sk-parallel-item::after {\n",
       "  content: \"\";\n",
       "  width: 100%;\n",
       "  border-bottom: 2px solid var(--sklearn-color-text-on-default-background);\n",
       "  flex-grow: 1;\n",
       "}\n",
       "\n",
       "#sk-container-id-8 div.sk-parallel {\n",
       "  display: flex;\n",
       "  align-items: stretch;\n",
       "  justify-content: center;\n",
       "  background-color: var(--sklearn-color-background);\n",
       "  position: relative;\n",
       "}\n",
       "\n",
       "#sk-container-id-8 div.sk-parallel-item {\n",
       "  display: flex;\n",
       "  flex-direction: column;\n",
       "}\n",
       "\n",
       "#sk-container-id-8 div.sk-parallel-item:first-child::after {\n",
       "  align-self: flex-end;\n",
       "  width: 50%;\n",
       "}\n",
       "\n",
       "#sk-container-id-8 div.sk-parallel-item:last-child::after {\n",
       "  align-self: flex-start;\n",
       "  width: 50%;\n",
       "}\n",
       "\n",
       "#sk-container-id-8 div.sk-parallel-item:only-child::after {\n",
       "  width: 0;\n",
       "}\n",
       "\n",
       "/* Serial-specific style estimator block */\n",
       "\n",
       "#sk-container-id-8 div.sk-serial {\n",
       "  display: flex;\n",
       "  flex-direction: column;\n",
       "  align-items: center;\n",
       "  background-color: var(--sklearn-color-background);\n",
       "  padding-right: 1em;\n",
       "  padding-left: 1em;\n",
       "}\n",
       "\n",
       "\n",
       "/* Toggleable style: style used for estimator/Pipeline/ColumnTransformer box that is\n",
       "clickable and can be expanded/collapsed.\n",
       "- Pipeline and ColumnTransformer use this feature and define the default style\n",
       "- Estimators will overwrite some part of the style using the `sk-estimator` class\n",
       "*/\n",
       "\n",
       "/* Pipeline and ColumnTransformer style (default) */\n",
       "\n",
       "#sk-container-id-8 div.sk-toggleable {\n",
       "  /* Default theme specific background. It is overwritten whether we have a\n",
       "  specific estimator or a Pipeline/ColumnTransformer */\n",
       "  background-color: var(--sklearn-color-background);\n",
       "}\n",
       "\n",
       "/* Toggleable label */\n",
       "#sk-container-id-8 label.sk-toggleable__label {\n",
       "  cursor: pointer;\n",
       "  display: block;\n",
       "  width: 100%;\n",
       "  margin-bottom: 0;\n",
       "  padding: 0.5em;\n",
       "  box-sizing: border-box;\n",
       "  text-align: center;\n",
       "}\n",
       "\n",
       "#sk-container-id-8 label.sk-toggleable__label-arrow:before {\n",
       "  /* Arrow on the left of the label */\n",
       "  content: \"▸\";\n",
       "  float: left;\n",
       "  margin-right: 0.25em;\n",
       "  color: var(--sklearn-color-icon);\n",
       "}\n",
       "\n",
       "#sk-container-id-8 label.sk-toggleable__label-arrow:hover:before {\n",
       "  color: var(--sklearn-color-text);\n",
       "}\n",
       "\n",
       "/* Toggleable content - dropdown */\n",
       "\n",
       "#sk-container-id-8 div.sk-toggleable__content {\n",
       "  max-height: 0;\n",
       "  max-width: 0;\n",
       "  overflow: hidden;\n",
       "  text-align: left;\n",
       "  /* unfitted */\n",
       "  background-color: var(--sklearn-color-unfitted-level-0);\n",
       "}\n",
       "\n",
       "#sk-container-id-8 div.sk-toggleable__content.fitted {\n",
       "  /* fitted */\n",
       "  background-color: var(--sklearn-color-fitted-level-0);\n",
       "}\n",
       "\n",
       "#sk-container-id-8 div.sk-toggleable__content pre {\n",
       "  margin: 0.2em;\n",
       "  border-radius: 0.25em;\n",
       "  color: var(--sklearn-color-text);\n",
       "  /* unfitted */\n",
       "  background-color: var(--sklearn-color-unfitted-level-0);\n",
       "}\n",
       "\n",
       "#sk-container-id-8 div.sk-toggleable__content.fitted pre {\n",
       "  /* unfitted */\n",
       "  background-color: var(--sklearn-color-fitted-level-0);\n",
       "}\n",
       "\n",
       "#sk-container-id-8 input.sk-toggleable__control:checked~div.sk-toggleable__content {\n",
       "  /* Expand drop-down */\n",
       "  max-height: 200px;\n",
       "  max-width: 100%;\n",
       "  overflow: auto;\n",
       "}\n",
       "\n",
       "#sk-container-id-8 input.sk-toggleable__control:checked~label.sk-toggleable__label-arrow:before {\n",
       "  content: \"▾\";\n",
       "}\n",
       "\n",
       "/* Pipeline/ColumnTransformer-specific style */\n",
       "\n",
       "#sk-container-id-8 div.sk-label input.sk-toggleable__control:checked~label.sk-toggleable__label {\n",
       "  color: var(--sklearn-color-text);\n",
       "  background-color: var(--sklearn-color-unfitted-level-2);\n",
       "}\n",
       "\n",
       "#sk-container-id-8 div.sk-label.fitted input.sk-toggleable__control:checked~label.sk-toggleable__label {\n",
       "  background-color: var(--sklearn-color-fitted-level-2);\n",
       "}\n",
       "\n",
       "/* Estimator-specific style */\n",
       "\n",
       "/* Colorize estimator box */\n",
       "#sk-container-id-8 div.sk-estimator input.sk-toggleable__control:checked~label.sk-toggleable__label {\n",
       "  /* unfitted */\n",
       "  background-color: var(--sklearn-color-unfitted-level-2);\n",
       "}\n",
       "\n",
       "#sk-container-id-8 div.sk-estimator.fitted input.sk-toggleable__control:checked~label.sk-toggleable__label {\n",
       "  /* fitted */\n",
       "  background-color: var(--sklearn-color-fitted-level-2);\n",
       "}\n",
       "\n",
       "#sk-container-id-8 div.sk-label label.sk-toggleable__label,\n",
       "#sk-container-id-8 div.sk-label label {\n",
       "  /* The background is the default theme color */\n",
       "  color: var(--sklearn-color-text-on-default-background);\n",
       "}\n",
       "\n",
       "/* On hover, darken the color of the background */\n",
       "#sk-container-id-8 div.sk-label:hover label.sk-toggleable__label {\n",
       "  color: var(--sklearn-color-text);\n",
       "  background-color: var(--sklearn-color-unfitted-level-2);\n",
       "}\n",
       "\n",
       "/* Label box, darken color on hover, fitted */\n",
       "#sk-container-id-8 div.sk-label.fitted:hover label.sk-toggleable__label.fitted {\n",
       "  color: var(--sklearn-color-text);\n",
       "  background-color: var(--sklearn-color-fitted-level-2);\n",
       "}\n",
       "\n",
       "/* Estimator label */\n",
       "\n",
       "#sk-container-id-8 div.sk-label label {\n",
       "  font-family: monospace;\n",
       "  font-weight: bold;\n",
       "  display: inline-block;\n",
       "  line-height: 1.2em;\n",
       "}\n",
       "\n",
       "#sk-container-id-8 div.sk-label-container {\n",
       "  text-align: center;\n",
       "}\n",
       "\n",
       "/* Estimator-specific */\n",
       "#sk-container-id-8 div.sk-estimator {\n",
       "  font-family: monospace;\n",
       "  border: 1px dotted var(--sklearn-color-border-box);\n",
       "  border-radius: 0.25em;\n",
       "  box-sizing: border-box;\n",
       "  margin-bottom: 0.5em;\n",
       "  /* unfitted */\n",
       "  background-color: var(--sklearn-color-unfitted-level-0);\n",
       "}\n",
       "\n",
       "#sk-container-id-8 div.sk-estimator.fitted {\n",
       "  /* fitted */\n",
       "  background-color: var(--sklearn-color-fitted-level-0);\n",
       "}\n",
       "\n",
       "/* on hover */\n",
       "#sk-container-id-8 div.sk-estimator:hover {\n",
       "  /* unfitted */\n",
       "  background-color: var(--sklearn-color-unfitted-level-2);\n",
       "}\n",
       "\n",
       "#sk-container-id-8 div.sk-estimator.fitted:hover {\n",
       "  /* fitted */\n",
       "  background-color: var(--sklearn-color-fitted-level-2);\n",
       "}\n",
       "\n",
       "/* Specification for estimator info (e.g. \"i\" and \"?\") */\n",
       "\n",
       "/* Common style for \"i\" and \"?\" */\n",
       "\n",
       ".sk-estimator-doc-link,\n",
       "a:link.sk-estimator-doc-link,\n",
       "a:visited.sk-estimator-doc-link {\n",
       "  float: right;\n",
       "  font-size: smaller;\n",
       "  line-height: 1em;\n",
       "  font-family: monospace;\n",
       "  background-color: var(--sklearn-color-background);\n",
       "  border-radius: 1em;\n",
       "  height: 1em;\n",
       "  width: 1em;\n",
       "  text-decoration: none !important;\n",
       "  margin-left: 1ex;\n",
       "  /* unfitted */\n",
       "  border: var(--sklearn-color-unfitted-level-1) 1pt solid;\n",
       "  color: var(--sklearn-color-unfitted-level-1);\n",
       "}\n",
       "\n",
       ".sk-estimator-doc-link.fitted,\n",
       "a:link.sk-estimator-doc-link.fitted,\n",
       "a:visited.sk-estimator-doc-link.fitted {\n",
       "  /* fitted */\n",
       "  border: var(--sklearn-color-fitted-level-1) 1pt solid;\n",
       "  color: var(--sklearn-color-fitted-level-1);\n",
       "}\n",
       "\n",
       "/* On hover */\n",
       "div.sk-estimator:hover .sk-estimator-doc-link:hover,\n",
       ".sk-estimator-doc-link:hover,\n",
       "div.sk-label-container:hover .sk-estimator-doc-link:hover,\n",
       ".sk-estimator-doc-link:hover {\n",
       "  /* unfitted */\n",
       "  background-color: var(--sklearn-color-unfitted-level-3);\n",
       "  color: var(--sklearn-color-background);\n",
       "  text-decoration: none;\n",
       "}\n",
       "\n",
       "div.sk-estimator.fitted:hover .sk-estimator-doc-link.fitted:hover,\n",
       ".sk-estimator-doc-link.fitted:hover,\n",
       "div.sk-label-container:hover .sk-estimator-doc-link.fitted:hover,\n",
       ".sk-estimator-doc-link.fitted:hover {\n",
       "  /* fitted */\n",
       "  background-color: var(--sklearn-color-fitted-level-3);\n",
       "  color: var(--sklearn-color-background);\n",
       "  text-decoration: none;\n",
       "}\n",
       "\n",
       "/* Span, style for the box shown on hovering the info icon */\n",
       ".sk-estimator-doc-link span {\n",
       "  display: none;\n",
       "  z-index: 9999;\n",
       "  position: relative;\n",
       "  font-weight: normal;\n",
       "  right: .2ex;\n",
       "  padding: .5ex;\n",
       "  margin: .5ex;\n",
       "  width: min-content;\n",
       "  min-width: 20ex;\n",
       "  max-width: 50ex;\n",
       "  color: var(--sklearn-color-text);\n",
       "  box-shadow: 2pt 2pt 4pt #999;\n",
       "  /* unfitted */\n",
       "  background: var(--sklearn-color-unfitted-level-0);\n",
       "  border: .5pt solid var(--sklearn-color-unfitted-level-3);\n",
       "}\n",
       "\n",
       ".sk-estimator-doc-link.fitted span {\n",
       "  /* fitted */\n",
       "  background: var(--sklearn-color-fitted-level-0);\n",
       "  border: var(--sklearn-color-fitted-level-3);\n",
       "}\n",
       "\n",
       ".sk-estimator-doc-link:hover span {\n",
       "  display: block;\n",
       "}\n",
       "\n",
       "/* \"?\"-specific style due to the `<a>` HTML tag */\n",
       "\n",
       "#sk-container-id-8 a.estimator_doc_link {\n",
       "  float: right;\n",
       "  font-size: 1rem;\n",
       "  line-height: 1em;\n",
       "  font-family: monospace;\n",
       "  background-color: var(--sklearn-color-background);\n",
       "  border-radius: 1rem;\n",
       "  height: 1rem;\n",
       "  width: 1rem;\n",
       "  text-decoration: none;\n",
       "  /* unfitted */\n",
       "  color: var(--sklearn-color-unfitted-level-1);\n",
       "  border: var(--sklearn-color-unfitted-level-1) 1pt solid;\n",
       "}\n",
       "\n",
       "#sk-container-id-8 a.estimator_doc_link.fitted {\n",
       "  /* fitted */\n",
       "  border: var(--sklearn-color-fitted-level-1) 1pt solid;\n",
       "  color: var(--sklearn-color-fitted-level-1);\n",
       "}\n",
       "\n",
       "/* On hover */\n",
       "#sk-container-id-8 a.estimator_doc_link:hover {\n",
       "  /* unfitted */\n",
       "  background-color: var(--sklearn-color-unfitted-level-3);\n",
       "  color: var(--sklearn-color-background);\n",
       "  text-decoration: none;\n",
       "}\n",
       "\n",
       "#sk-container-id-8 a.estimator_doc_link.fitted:hover {\n",
       "  /* fitted */\n",
       "  background-color: var(--sklearn-color-fitted-level-3);\n",
       "}\n",
       "</style><div id=\"sk-container-id-8\" class=\"sk-top-container\"><div class=\"sk-text-repr-fallback\"><pre>KNeighborsClassifier(n_neighbors=7)</pre><b>In a Jupyter environment, please rerun this cell to show the HTML representation or trust the notebook. <br />On GitHub, the HTML representation is unable to render, please try loading this page with nbviewer.org.</b></div><div class=\"sk-container\" hidden><div class=\"sk-item\"><div class=\"sk-estimator fitted sk-toggleable\"><input class=\"sk-toggleable__control sk-hidden--visually\" id=\"sk-estimator-id-8\" type=\"checkbox\" checked><label for=\"sk-estimator-id-8\" class=\"sk-toggleable__label fitted sk-toggleable__label-arrow fitted\">&nbsp;&nbsp;KNeighborsClassifier<a class=\"sk-estimator-doc-link fitted\" rel=\"noreferrer\" target=\"_blank\" href=\"https://scikit-learn.org/1.4/modules/generated/sklearn.neighbors.KNeighborsClassifier.html\">?<span>Documentation for KNeighborsClassifier</span></a><span class=\"sk-estimator-doc-link fitted\">i<span>Fitted</span></span></label><div class=\"sk-toggleable__content fitted\"><pre>KNeighborsClassifier(n_neighbors=7)</pre></div> </div></div></div></div>"
      ],
      "text/plain": [
       "KNeighborsClassifier(n_neighbors=7)"
      ]
     },
     "execution_count": 302,
     "metadata": {},
     "output_type": "execute_result"
    }
   ],
   "source": [
    "#Entraînons le modèle KNN sur les variables explicatives : Consommation énergétique (kWh) et Nombre d'utilisateurs. La variable cible sera la \n",
    "#catégorie d’empreinte carbone (faible, moyenne, élevée)\n",
    "\n",
    "from sklearn.neighbors import KNeighborsClassifier\n",
    "from sklearn.metrics import accuracy_score\n",
    "\n",
    "# Nous créons d'abord le modèle KNN avec la meilleure valeur optimale de K trouvée précédemment.\n",
    "model = KNeighborsClassifier(n_neighbors=best_k)  \n",
    "\n",
    "# Et on finit par entrainer le modèle sur les données d'entraînement\n",
    "model.fit(X_train, y_train)\n"
   ]
  },
  {
   "cell_type": "markdown",
   "id": "b4e1379d-bd79-4084-959f-323ac22ddcf3",
   "metadata": {},
   "source": [
    "## Prédiction sur les données de test\n",
    "\n"
   ]
  },
  {
   "cell_type": "code",
   "execution_count": 304,
   "id": "52156967-7c38-4a49-aa11-b43c5bbb6a96",
   "metadata": {},
   "outputs": [
    {
     "name": "stdout",
     "output_type": "stream",
     "text": [
      "   Labels réels Labels prédits\n",
      "8        faible         faible\n",
      "16       élevée         élevée\n",
      "0        faible        moyenne\n",
      "23       faible        moyenne\n",
      "11       élevée        moyenne\n",
      "9        élevée         élevée\n",
      "13      moyenne        moyenne\n",
      "1       moyenne         élevée\n",
      "Précision du modèle avec K=7: 0.50\n"
     ]
    }
   ],
   "source": [
    "#Après entrainement, nous allons prédire les labels sur l'ensemble de test.\n",
    "\n",
    "y_pred = model.predict(X_test)\n",
    "\n",
    "# Création du DataFrame pour afficher les résultats de manière organisée\n",
    "results_df = pd.DataFrame({\n",
    "    'Labels réels': y_test,\n",
    "    'Labels prédits': y_pred\n",
    "})\n",
    "print(results_df)\n",
    "\n",
    "# Calcul de la précision du modèle\n",
    "accuracy = accuracy_score(y_test, y_pred)\n",
    "\n",
    "# Affichage de la précision\n",
    "print(f\"Précision du modèle avec K={best_k}: {accuracy:.2f}\")\n"
   ]
  },
  {
   "cell_type": "markdown",
   "id": "30c13c92-a914-4769-8f57-a5638893e6ef",
   "metadata": {},
   "source": [
    "## Etape 5: Évaluation du modèle\n"
   ]
  },
  {
   "cell_type": "code",
   "execution_count": 308,
   "id": "b0609ef2-d16a-4d90-9627-7b517929138f",
   "metadata": {},
   "outputs": [
    {
     "name": "stdout",
     "output_type": "stream",
     "text": [
      "Matrice de confusion :\n",
      "[[1 2 0]\n",
      " [0 1 1]\n",
      " [0 1 2]]\n",
      "\n",
      "Rapport de classification :\n",
      "              precision    recall  f1-score   support\n",
      "\n",
      "      faible       1.00      0.33      0.50         3\n",
      "     moyenne       0.25      0.50      0.33         2\n",
      "      élevée       0.67      0.67      0.67         3\n",
      "\n",
      "    accuracy                           0.50         8\n",
      "   macro avg       0.64      0.50      0.50         8\n",
      "weighted avg       0.69      0.50      0.52         8\n",
      "\n",
      "\n",
      "Précision (Accuracy) du modèle : 0.50\n"
     ]
    }
   ],
   "source": [
    "from sklearn.metrics import confusion_matrix, classification_report\n",
    "\n",
    "# Calcul de la matrice de confusion\n",
    "conf_matrix = confusion_matrix(y_test, y_pred)\n",
    "\n",
    "# Afficher la matrice de confusion\n",
    "print(\"Matrice de confusion :\")\n",
    "print(conf_matrix)\n",
    "\n",
    "# Afficher le rapport de classification (précision, rappel, f1-score)\n",
    "print(\"\\nRapport de classification :\")\n",
    "print(classification_report(y_test, y_pred))\n",
    "\n",
    "#  affichage de la précision (accuracy) \n",
    "accuracy = accuracy_score(y_test, y_pred)\n",
    "print(f\"\\nPrécision (Accuracy) du modèle : {accuracy:.2f}\")\n"
   ]
  },
  {
   "cell_type": "code",
   "execution_count": null,
   "id": "7e0fba87-2097-4b28-9f9b-549779d8b639",
   "metadata": {},
   "outputs": [],
   "source": []
  },
  {
   "cell_type": "markdown",
   "id": "4316923e-8adf-4356-b3b9-54b64156042f",
   "metadata": {},
   "source": [
    "# VALIDATION DU MODELE"
   ]
  },
  {
   "cell_type": "markdown",
   "id": "3f950d46-9e75-4198-8fc1-c9e38287f5a1",
   "metadata": {},
   "source": [
    "## VISUALISATION DE LA HEATMAP DE LA MATRICE DE CONFUSION"
   ]
  },
  {
   "cell_type": "code",
   "execution_count": 310,
   "id": "b9b41b92-734b-461e-b0d1-5c09dcb903fd",
   "metadata": {},
   "outputs": [
    {
     "data": {
      "image/png": "[encoded data removed]",
      "text/plain": [
       "<Figure size 800x600 with 2 Axes>"
      ]
     },
     "metadata": {},
     "output_type": "display_data"
    }
   ],
   "source": [
    "#Pour ajouter une heatmap de la matrice de confusion, nous utiliserons la bibliothèque Seaborn pour une visualisation plus claire des performances du modèle\n",
    "\n",
    "import seaborn as sns\n",
    "import matplotlib.pyplot as plt\n",
    "\n",
    "# Création de la heatmap de la matrice de confusion\n",
    "plt.figure(figsize=(8, 6))\n",
    "sns.heatmap(conf_matrix, annot=True, fmt='d', cmap='Blues', \n",
    "            xticklabels=['Faible', 'Moyenne', 'Élevée'], \n",
    "            yticklabels=['Faible', 'Moyenne', 'Élevée'])\n",
    "\n",
    "# Ajout des labels et un titre\n",
    "plt.title('Matrice de Confusion')\n",
    "plt.xlabel('Prédictions')\n",
    "plt.ylabel('Véritables réelles')\n",
    "\n",
    "# Afficher la heatmap\n",
    "plt.show()\n"
   ]
  },
  {
   "cell_type": "markdown",
   "id": "ba7a8e5a-d7e5-481e-b824-036adb31b304",
   "metadata": {},
   "source": [
    "Analyse de la Heatmap\n",
    "\n",
    "- Observations générales :\n",
    "  - La heatmap montre que les prédictions correctes (cases diagonales) sont limitées, et les erreurs (cases hors diagonale) restent fréquentes. Cela reflète la difficulté du modèle à bien distinguer les trois catégories d'empreinte carbone (\"faible,\" \"moyenne,\" \"élevée\").\n",
    "  - La confusion entre les classes peut être due au manque d’exemples représentatifs dans un dataset aussi réduit (25 services).\n",
    "  \n",
    "\n",
    "- Répartition des erreurs :\n",
    "  - Certaines classes peuvent dominer les prédictions en raison de leur sur-représentation relative, ou inversement, les classes minoritaires peuvent être systématiquement mal classifiées.\n",
    " \n",
    "\n",
    "    Faibles performances générales :\n",
    "\n",
    "Si les valeurs hors de la diagonale sont élevées, cela signifie que le modèle a souvent confondu les catégories. Par exemple :\n",
    "\"Faible\" a souvent été classé comme \"Moyenne\".\n",
    "\"Élevée\" a été classé incorrectement comme \"Moyenne\", indiquant une tendance du modèle à privilégier certaines classes (moyenne) dans notre cas.\n",
    "\n",
    "    Sources possibles d'erreur :\n",
    "\n",
    "Les seuils pour diviser les émissions de CO₂ en catégories (\"faible\", \"moyenne\", \"élevée\") pourraient être mal adaptés et ne pas refléter une séparation nette dans les données.\n",
    "Les classes pourraient être déséquilibrées (par exemple, davantage de services dans une catégorie spécifique), influençant le modèle à privilégier les catégories majoritaires.\n"
   ]
  },
  {
   "cell_type": "code",
   "execution_count": null,
   "id": "0c2e1349-ca18-41ba-841f-a1917e9d87e9",
   "metadata": {},
   "outputs": [],
   "source": []
  },
  {
   "cell_type": "markdown",
   "id": "b9bd833e-ae75-43d8-b4d7-d217b17cf8ec",
   "metadata": {},
   "source": [
    "#  Cross-validation : \n",
    "\n",
    "Nous effectuons une validation croisée pour s’assurer de la \n",
    "robustesse du modèle KNN"
   ]
  },
  {
   "cell_type": "code",
   "execution_count": 314,
   "id": "ce0ffc6d-19e9-4c81-97f7-ac16f2c629d7",
   "metadata": {},
   "outputs": [
    {
     "name": "stdout",
     "output_type": "stream",
     "text": [
      "Scores par pli : [0.4 0.4 0.4 0.4 0.2]\n",
      "Précision moyenne : 0.36\n",
      "Écart-type des scores : 0.08\n"
     ]
    }
   ],
   "source": [
    "from sklearn.model_selection import cross_val_score\n",
    "from sklearn.neighbors import KNeighborsClassifier\n",
    "from sklearn.datasets import make_classification\n",
    "from sklearn.model_selection import  StratifiedKFold\n",
    "\n",
    "cv = StratifiedKFold(5)\n",
    "                        #On utilise StratifiedKFold au lieu de KFold ou de ShuffleSplit pour s'assurer que la répartition des classes dans \n",
    "                        #chaque sous-échantillon reflète celle du jeu de données d'origine, ce qui est crucial pour les ensembles déséquilibrés. \n",
    "                        #Cela garantit une meilleure évaluation des performances du modèle.\n",
    "\n",
    "\n",
    "scores = cross_val_score(model, X, y, cv=cv, scoring='accuracy')\n",
    "\n",
    "# Résultats\n",
    "print(f\"Scores par pli : {scores}\")\n",
    "print(f\"Précision moyenne : {scores.mean():.2f}\")\n",
    "print(f\"Écart-type des scores : {scores.std():.2f}\")\n"
   ]
  },
  {
   "cell_type": "markdown",
   "id": "f5698a6a-d8ef-4295-9657-263a73b1a9b7",
   "metadata": {},
   "source": [
    "## Interprétation des résultats"
   ]
  },
  {
   "cell_type": "markdown",
   "id": "8997d040-68b8-481a-b2e1-c2d01a6f0d6a",
   "metadata": {},
   "source": [
    "\n",
    "\n",
    "    Précision globale (36%) :\n",
    "    \n",
    "Le modèle est légèrement meilleur qu’un modèle aléatoire (qui aurait une précision attendue de ~33% pour trois classes), mais il reste très loin de l’objectif idéal (souvent fixé à 85% ou plus dans ce type de projet).\n",
    "Cela indique que le KNN capte très peu de patterns significatifs dans les données et que ses prédictions manquent de fiabilité.\n",
    "Dans sa configuration actuelle, le modèle ne parvient pas à séparer correctement les classes d’empreinte carbone.\n",
    "De plus, avec un petit dataset, le modèle manque probablement de suffisamment de voisins pertinents pour établir des relations solides entre les variables explicatives et la variable cible.\n",
    "    \n",
    "    - Impact du petit dataset :\n",
    "    \n",
    "Le modèle est fortement limité par la taille des données : 25 services ne permettent pas de capturer la diversité et les nuances des catégories d’empreinte carbone.  Les trois classes d’empreinte carbone sont probablement sous-échantillonnées, augmentant les erreurs de classification.\n",
    "Les valeurs proches dans l'espace des variables explicatives peuvent entraîner des prédictions erronées, car elles n'appartiennent pas forcément à la même classe cible.\n",
    "\n",
    "\n",
    "    -Corrélation entre variables :\n",
    "    \n",
    "Les deux variables utilisées (consommation énergétique et nombre d'utilisateurs) pourraient ne pas être assez explicatives. Inclure des variables comme le type d'énergie ou des indicateurs géographiques pourrait fournir des insights supplémentaires.\n",
    "\n",
    "\n",
    "    -Catégorisation des émissions de CO₂ :\n",
    "\n",
    "La méthode de segmentation en trois catégories (quantiles) ne reflète surement pas correctement les relations entre les variables et les classes.\n",
    "\n",
    "\n",
    "    Métriques complémentaires :\n",
    "\n",
    "Le rapport de classification (précision, rappel, F1-score) permet d'approfondir cette analyse :\n",
    "Une précision globale de 36% peut masquer des disparités entre les classes.\n",
    "Certaines catégories pourraient avoir une précision ou un rappel élevés, tandis que d'autres sont négligées. Par exemple dans notre cas ci: \n",
    "Une faible précision (precision) pour la catégorie \"moyenne\" indique que les prédictions pour cette catégorie sont souvent incorrectes.\n",
    "Un faible rappel (recall) de la catégorie \"faible\" montre que le modèle a du mal à identifier correctement les éléments pertinents dans cette catégorie. \n",
    "\n"
   ]
  },
  {
   "cell_type": "code",
   "execution_count": null,
   "id": "2a58d798-d801-4dae-a024-d198c4193467",
   "metadata": {},
   "outputs": [],
   "source": [
    "#SUGGESTIONS POUR AMELIORATION"
   ]
  },
  {
   "cell_type": "markdown",
   "id": "c3de58e9-9374-47b3-9e56-07e3853e74ba",
   "metadata": {},
   "source": [
    "\n",
    "1. Augmenter la taille du dataset :\n",
    "   - Passer de 25 à au moins 100 ou 1000 services numériques en générant des données supplémentaires ou en collectant des données réelles.\n",
    "   - Cela améliorerait la représentativité des classes et la performance du modèle.\n",
    "   - Un dataset élargi permettrait de fournir davantage d’exemples pour que le modèle identifie des patterns plus clairs.\n",
    "  \n",
    "\n",
    "2. Améliorer l'équilibre entre classes : Utiliser des techniques de résampling (oversampling, SMOTE) pour équilibrer les catégories sous-représentées.\n",
    "\n",
    "3. Explorer d'autres modèles :\n",
    "   - Le KNN est sensible à la taille du dataset. Tester d'autres valeurs de K avec \"validation croisée\" pourrait limiter l'impact du dataset réduit     et ainsi améliorer la performance.     -Optimiser le modèle, en explorant des algorithmes alternatifs ou des techniques de prétraitement avancées.\n",
    "   - Des algorithmes plus robustes (comme les arbres de décision ou les forêts aléatoires) pourraient mieux gérer les petits datasets.\n",
    "\n",
    "4. Analyser les variables :\n",
    "   - Vérifier si les variables explicatives (consommation énergétique, nombre d'utilisateurs) suffisent pour bien discriminer les classes. \n",
    "            Ajouter des variables comme le type d'énergie ou le pays pourrait améliorer les prédictions.\n"
   ]
  },
  {
   "cell_type": "markdown",
   "id": "91e2b658-4dea-4351-a5cf-51a627f963c8",
   "metadata": {},
   "source": [
    "## CONCLUSION"
   ]
  },
  {
   "cell_type": "markdown",
   "id": "5492c217-a204-46d5-a2c3-11916d9a64bc",
   "metadata": {},
   "source": [
    "Le projet montre que, même avec un dataset limité, un modèle KNN capte très peu de patterns, et la précision de 36% reste insuffisante pour des prédictions fiables. Pour améliorer ces résultats, il est crucial d'élargir le dataset et d'explorer des approches complémentaires. Cette étude souligne l'importance de disposer de données riches et diversifiées pour obtenir des analyses fiables et exploitables.\n"
   ]
  },
  {
   "cell_type": "code",
   "execution_count": null,
   "id": "f9f3f201-b13e-44dc-a9ee-4a0f64573d1a",
   "metadata": {},
   "outputs": [],
   "source": []
  },
  {
   "cell_type": "markdown",
   "id": "8b44aa5d-0549-4dba-bb6a-45704561a310",
   "metadata": {},
   "source": [
    "## PISTES DE SOLUTION POUR FAIRE EVOLUER LA PERFORMANCE DU MODELE: \n",
    "### Elargir le dataset de 25 à 1000 échantillons"
   ]
  },
  {
   "cell_type": "markdown",
   "id": "a25dfa3a-af84-4333-987c-af411144132b",
   "metadata": {},
   "source": [
    "Procédons maintenant à l'élargissement du dataset en vue de performer le modèle tel quon l'a suggéré précédemment. Nous verrons à la fin si  l'application de cette proposition a pu faire évoluer le,modèle d'une quelconque façon.  \n",
    "Etant donné qu'ici nous ne ferons que générer un nouveau dataset de 1000 échantillons et qu'il faudra juste charger ce fichier csv à notre modèle, nous n'allons plus séquencer le code tel qu'il a été fait précédemment mais réunir toute les étapes dans une même section de code. Les commentaires appropriés au nouveau dataset seront toutefois énumérés."
   ]
  },
  {
   "cell_type": "code",
   "execution_count": 328,
   "id": "6513fec1-c2f4-4800-bf86-69a91421481f",
   "metadata": {},
   "outputs": [
    {
     "name": "stdout",
     "output_type": "stream",
     "text": [
      "\n",
      "\n"
     ]
    },
    {
     "data": {
      "image/png": "[encoded data removed]",
      "text/plain": [
       "<Figure size 800x600 with 1 Axes>"
      ]
     },
     "metadata": {},
     "output_type": "display_data"
    },
    {
     "name": "stdout",
     "output_type": "stream",
     "text": [
      "\n",
      "\n",
      "Taille de l'ensemble d'entraînement : 700 exemples\n",
      "Taille de l'ensemble de test : 300 exemples\n",
      "\n",
      "\n",
      "Meilleur K: 27 avec une précision de 0.65\n",
      "\n",
      "\n",
      "\n",
      "\n",
      "    Labels réels Labels prédits\n",
      "521       faible         faible\n",
      "737       faible         faible\n",
      "740       faible         faible\n",
      "660       faible         élevée\n",
      "411       faible         faible\n",
      "..           ...            ...\n",
      "468       faible         faible\n",
      "935       faible         faible\n",
      "428      moyenne         élevée\n",
      "7        moyenne        moyenne\n",
      "155       faible         faible\n",
      "\n",
      "[300 rows x 2 columns]\n",
      "\n",
      "\n",
      "Précision du modèle avec K=27: 0.65\n",
      "\n",
      "\n",
      "Matrice de confusion :\n",
      "[[89  7  7]\n",
      " [19 44 46]\n",
      " [ 3 24 61]]\n",
      "\n",
      "Rapport de classification :\n",
      "              precision    recall  f1-score   support\n",
      "\n",
      "      faible       0.80      0.86      0.83       103\n",
      "     moyenne       0.59      0.40      0.48       109\n",
      "      élevée       0.54      0.69      0.60        88\n",
      "\n",
      "    accuracy                           0.65       300\n",
      "   macro avg       0.64      0.65      0.64       300\n",
      "weighted avg       0.65      0.65      0.64       300\n",
      "\n",
      "\n",
      "Précision (Accuracy) du modèle : 0.65\n",
      "\n",
      "\n"
     ]
    },
    {
     "data": {
      "image/png": "[encoded data removed]",
      "text/plain": [
       "<Figure size 800x600 with 2 Axes>"
      ]
     },
     "metadata": {},
     "output_type": "display_data"
    },
    {
     "name": "stdout",
     "output_type": "stream",
     "text": [
      "\n",
      "\n",
      "Scores par pli : [0.68  0.635 0.64  0.6   0.65 ]\n",
      "Précision moyenne : 0.64\n",
      "Écart-type des scores : 0.03\n"
     ]
    }
   ],
   "source": [
    "#Etape1 : Génération de données \n",
    "    #Le fichier csv a déjà été généré. Nous avons utiliser le code du début et changer le prompt en demandant un dataset de 1000 échantillons\n",
    "\n",
    "import pandas as pd\n",
    "import numpy as np\n",
    "\n",
    "df = pd.read_csv(\"services_numeriques___1000.csv\")\n",
    "\n",
    "bins = [0, df['Émission de CO2 (kg)'].quantile(0.33), df['Émission de CO2 (kg)'].quantile(0.67), df['Émission de CO2 (kg)'].max()]\n",
    "labels = ['faible', 'moyenne', 'élevée']\n",
    "df['Catégorie d\\'empreinte carbone'] = pd.cut(df['Émission de CO2 (kg)'], bins=bins, labels=labels)\n",
    "\n",
    "df.head() # étant avec 1000 échantillons nous optons d'afficher juste les 5 premiers échantillons\n",
    "\n",
    "print(\"\\n\")\n",
    "\n",
    "\n",
    "#Sous-étape 1  : # Visualiser la répartition des catégories\n",
    "\n",
    "import matplotlib.pyplot as plt\n",
    "\n",
    "category_distribution = df[\"Catégorie d\\'empreinte carbone\"].value_counts()\n",
    "plt.figure(figsize=(8, 6))\n",
    "category_distribution.plot(kind='bar', color=['orange', 'green', 'red'])\n",
    "plt.title(\"Répartition des catégories de CO2\")\n",
    "plt.xlabel(\"Catégorie d\\'empreinte carbone\")\n",
    "plt.ylabel(\"Nombre de services numériques\")\n",
    "plt.xticks(rotation=0)\n",
    "plt.grid(axis='y', linestyle='--', alpha=0.7)\n",
    "plt.tight_layout()\n",
    "plt.show()\n",
    "\n",
    "print(\"\\n\")\n",
    "\n",
    "#Etape 2 : Séparation des données\n",
    "\n",
    "from sklearn.model_selection import train_test_split\n",
    "\n",
    "# Variables explicatives et cible\n",
    "X = df[['Consommation énergétique (kWh)', 'Nombre d\\'utilisateurs']]\n",
    "y = df['Catégorie d\\'empreinte carbone']\n",
    "\n",
    "# Séparation des données en ensembles d'entraînement et de test\n",
    "X_train, X_test, y_train, y_test = train_test_split(X, y, test_size=0.3, random_state=42)\n",
    "\n",
    "# Afficher les tailles des ensembles\n",
    "print(f\"Taille de l'ensemble d'entraînement : {X_train.shape[0]} exemples\")\n",
    "print(f\"Taille de l'ensemble de test : {X_test.shape[0]} exemples\")\n",
    "\n",
    "print(\"\\n\")\n",
    "\n",
    "\n",
    "#Etape 3 : Choix du modèle KNN\n",
    "\n",
    "from sklearn.neighbors import KNeighborsClassifier\n",
    "from sklearn.metrics import accuracy_score, confusion_matrix, classification_report\n",
    "\n",
    "import matplotlib.pyplot as plt\n",
    "\n",
    "# Essayer plusieurs valeurs de K\n",
    "k_values = range(1,35) #on fais varier k entre 1 et 35 parceque selon les principes de KNN, le k optimal est souvent la racine carée du dataset total. \n",
    "                      #la racine carrée étant ici 31 , on estime avoir balayer la plage de k nécessaire\n",
    "                        \n",
    "best_k = 1\n",
    "best_accuracy = 0\n",
    "\n",
    "for k in k_values:\n",
    "    model = KNeighborsClassifier(n_neighbors=k)\n",
    "    model.fit(X_train, y_train)\n",
    "    y_pred = model.predict(X_test)\n",
    "    accuracy = accuracy_score(y_test, y_pred)\n",
    "    \n",
    "    if accuracy > best_accuracy:\n",
    "        best_accuracy = accuracy\n",
    "        best_k = k\n",
    "\n",
    "print(f\"Meilleur K: {best_k} avec une précision de {best_accuracy:.2f}\")\n",
    "\n",
    "print(\"\\n\")\n",
    "\n",
    "\n",
    "#Etape 4 : Entrainement du modèle\n",
    "\n",
    "from sklearn.neighbors import KNeighborsClassifier\n",
    "from sklearn.metrics import accuracy_score\n",
    "\n",
    "# Nous créons d'abord le modèle KNN avec la meilleure valeur optimale de K trouvée précédemment.\n",
    "model = KNeighborsClassifier(n_neighbors=best_k)  \n",
    "\n",
    "# Et on finit par entrainer le modèle sur les données d'entraînement\n",
    "model.fit(X_train, y_train)\n",
    "\n",
    "print(\"\\n\")\n",
    "\n",
    "\n",
    "#Sous étape 4 : Prédictions des labels \n",
    "\n",
    "y_pred = model.predict(X_test)\n",
    "\n",
    "# Création du DataFrame pour afficher les résultats de manière organisée\n",
    "results_df = pd.DataFrame({\n",
    "    'Labels réels': y_test,\n",
    "    'Labels prédits': y_pred\n",
    "})\n",
    "print(results_df)\n",
    "print(\"\\n\")\n",
    "\n",
    "# Calcul de la précision du modèle\n",
    "accuracy = accuracy_score(y_test, y_pred)\n",
    "\n",
    "# Affichage de la précision\n",
    "print(f\"Précision du modèle avec K={best_k}: {accuracy:.2f}\")\n",
    "\n",
    "print(\"\\n\")\n",
    "\n",
    "#Etape 5 : Evaluation du modèle \n",
    "\n",
    "from sklearn.metrics import confusion_matrix, classification_report\n",
    "\n",
    "# Calcul de la matrice de confusion\n",
    "conf_matrix = confusion_matrix(y_test, y_pred)\n",
    "\n",
    "# Afficher la matrice de confusion\n",
    "print(\"Matrice de confusion :\")\n",
    "print(conf_matrix)\n",
    "\n",
    "# Afficher le rapport de classification (précision, rappel, f1-score)\n",
    "print(\"\\nRapport de classification :\")\n",
    "print(classification_report(y_test, y_pred))\n",
    "\n",
    "#  affichage de la précision (accuracy) \n",
    "accuracy = accuracy_score(y_test, y_pred)\n",
    "print(f\"\\nPrécision (Accuracy) du modèle : {accuracy:.2f}\")\n",
    "\n",
    "print(\"\\n\")\n",
    "\n",
    "                        #VALIDATION DU MODELE\n",
    "\n",
    "        #VISUALISATION DE LA HEATMAP DE LA MATRICE DE CONFUSION \n",
    "#Pour ajouter une heatmap de la matrice de confusion, nous utiliserons la bibliothèque Seaborn pour une visualisation plus claire des performances du modèle\n",
    "\n",
    "import seaborn as sns\n",
    "import matplotlib.pyplot as plt\n",
    "\n",
    "# Création de la heatmap de la matrice de confusion\n",
    "plt.figure(figsize=(8, 6))\n",
    "sns.heatmap(conf_matrix, annot=True, fmt='d', cmap='Blues', \n",
    "            xticklabels=['Faible', 'Moyenne', 'Élevée'], \n",
    "            yticklabels=['Faible', 'Moyenne', 'Élevée'])\n",
    "\n",
    "# Ajout des labels et un titre\n",
    "plt.title('Matrice de Confusion')\n",
    "plt.xlabel('Prédictions')\n",
    "plt.ylabel('Véritables réelles')\n",
    "\n",
    "# Afficher la heatmap\n",
    "plt.show()\n",
    "\n",
    "\n",
    "\n",
    "\n",
    "print(\"\\n\")\n",
    "\n",
    "        #CROSS-VALIDATION\n",
    "\n",
    "from sklearn.model_selection import cross_val_score\n",
    "from sklearn.neighbors import KNeighborsClassifier\n",
    "from sklearn.datasets import make_classification\n",
    "from sklearn.model_selection import  StratifiedKFold\n",
    "\n",
    "cv = StratifiedKFold(5)\n",
    "                        #On utilise StratifiedKFold au lieu de KFold ou de ShuffleSplit pour s'assurer que la répartition des classes dans \n",
    "                        #chaque sous-échantillon reflète celle du jeu de données d'origine, ce qui est crucial pour les ensembles déséquilibrés. \n",
    "                        #Cela garantit une meilleure évaluation des performances du modèle.\n",
    "\n",
    "\n",
    "scores = cross_val_score(model, X, y, cv=cv, scoring='accuracy')\n",
    "\n",
    "# Résultats\n",
    "print(f\"Scores par pli : {scores}\")\n",
    "print(f\"Précision moyenne : {scores.mean():.2f}\")\n",
    "print(f\"Écart-type des scores : {scores.std():.2f}\")\n",
    "\n",
    "\n"
   ]
  },
  {
   "cell_type": "markdown",
   "id": "f5673f6e-4545-4528-975d-7b318982cbc3",
   "metadata": {},
   "source": [
    "## Analyse de la Heatmap"
   ]
  },
  {
   "cell_type": "markdown",
   "id": "24c22b27-21d8-4431-85d5-66cc9adc399d",
   "metadata": {},
   "source": [
    "    -Observations générales :\n",
    "    \n",
    "La heatmap montre que les prédictions correctes se trouvent principalement dans les cases diagonales, mais les erreurs (cases hors diagonale) restent significatives, particulièrement pour les classes \"moyenne\" et \"élevée\".\n",
    "Cela reflète les limites du modèle à bien distinguer les trois catégories d’empreinte carbone.\n",
    "\n",
    "    -Répartition des erreurs :\n",
    "    \n",
    "La classe \"faible\" est correctement prédite dans 89 cas sur 103, montrant une bonne performance avec un recall de 86%. Cependant, quelques erreurs existent, avec 7 cas classés comme \"moyenne\" et 7 comme \"élevée\".\n",
    "La classe \"moyenne\" est mal prédite, avec seulement 44 prédictions correctes sur 109. La majorité des erreurs viennent des confusions avec la classe \"élevée\" (46 cas). Cela explique un recall de 40%, ce qui est insuffisant.\n",
    "La classe \"élevée\" a un recall de 69%, montrant une performance moyenne. Cependant, 24 cas sont confondus avec \"moyenne,\" suggérant un chevauchement important entre ces deux classes.\n",
    "\n",
    "    -Faibles performances générales :\n",
    "    \n",
    "Les erreurs importantes hors de la diagonale, surtout entre \"moyenne\" et les deux autres classes, indiquent que le modèle éprouve des difficultés à différencier ces catégories.\n",
    "Une tendance marquée à privilégier les classes \"faible\" et \"élevée\" dans les prédictions est perceptible, tandis que la classe \"moyenne\" semble souvent négligée.\n"
   ]
  },
  {
   "cell_type": "markdown",
   "id": "c238dcbb-e7f9-4869-a154-a8c37d7c0e0a",
   "metadata": {},
   "source": [
    "### INTERPRETATION DES RESULTATS"
   ]
  },
  {
   "cell_type": "markdown",
   "id": "94ea5851-b34e-476f-928a-849472816f40",
   "metadata": {},
   "source": [
    "    -Précision globale (64 %) :\n",
    "\n",
    "Le modèle montre une nette amélioration par rapport à une précision de 36 % et dépasse largement le niveau d’un modèle aléatoire (précision attendue de ~33 % pour trois classes). Cependant, il reste en deçà de l’objectif idéal de 85 %, ce qui reflète encore des limites dans la capacité du modèle à capturer les patterns des données.\n",
    "Malgré cette progression, les prédictions ne sont pas encore suffisamment fiables pour une utilisation pratique.\n",
    "\n",
    "\n",
    "    -Impact de l'élargissement du dataset :\n",
    "\n",
    "L’augmentation à 1000 données a permis au modèle de mieux généraliser et de trouver des voisins plus pertinents, améliorant ainsi la qualité des prédictions.\n",
    "Toutefois, des erreurs significatives subsistent, notamment entre les classes, ce qui indique que # la quantité de données seule ne résout pas tous les problèmes liés à la classification.\n",
    "\n",
    "\n",
    "    -Limites restantes :\n",
    "\n",
    "Confusion entre classes : Les erreurs hors diagonale (comme entre \"moyenne\" et \"élevée\") suggèrent que les variables explicatives ne suffisent toujours pas à bien séparer les classes.\n",
    "Déficit en informations pertinentes : Les variables utilisées (consommation énergétique et nombre d’utilisateurs) peuvent manquer de pertinence ou de corrélation avec les catégories de CO₂, limitant la capacité prédictive du modèle.\n",
    "\n",
    "\n",
    "    -Métriques complémentaires :\n",
    "    \n",
    "L’analyse des métriques comme le recall et la précision par classe pourrait révéler des disparités :Certaines classes, comme \"faible,\" pourraient être mieux identifiées que \"moyenne\" ou \"élevée\". Des ajustements sont nécessaires pour réduire les biais du modèle envers certaines catégories.\n"
   ]
  },
  {
   "cell_type": "markdown",
   "id": "9d4f2fab-2a7b-490d-b492-cb83045ee5bf",
   "metadata": {},
   "source": [
    "# CONCLUSION "
   ]
  },
  {
   "cell_type": "markdown",
   "id": "c7e27c62-6b91-4829-8786-36a514ec2fcb",
   "metadata": {},
   "source": [
    "L’élargissement du dataset à 1000 échantillons a permis d’améliorer la précision globale du modèle, passant de 36 % à 64 %(près du double de l'ancienne précision). Cette progression démontre que l'augmentation des données aide le modèle KNN à mieux capturer certains patterns. Toutefois, les performances restent insuffisantes pour une classification fiable, en raison de confusions persistantes entre les classes, particulièrement pour la catégorie \"moyenne\". Nous concluons donc que **la quantité de données seule ne résout pas tous les problèmes liés à la classification KNN**. \n",
    "\n",
    "**Nous estimons quand même avoir réussi à prouver notre hypothèse précédemment énumérée, laquelle était d'augmenter la performance du modèle en élargissant la taille du dataset**.\n",
    "\n",
    "Pour aller plus loin, il est essentiel d'enrichir les variables explicatives afin de mieux représenter les distinctions entre les classes et de réviser les critères de catégorisation. En complément, l’exploration de modèles plus avancés pourrait permettre d’atteindre des performances conformes aux objectifs initiaux de précision."
   ]
  },
  {
   "cell_type": "code",
   "execution_count": null,
   "id": "01a861cc-693a-426e-a278-8deef2f73cbf",
   "metadata": {},
   "outputs": [],
   "source": []
  },
  {
   "cell_type": "markdown",
   "id": "f213733e-7e70-4994-8215-5fd777bd554c",
   "metadata": {},
   "source": [
    "## Algo 3 : K-means "
   ]
  },
  {
   "cell_type": "markdown",
   "id": "0cb56beb-4409-4a82-a804-f3fa7bbc2d12",
   "metadata": {},
   "source": [
    "### INTRODUCTION\n",
    "\n",
    "La segmentation des services numériques est essentielle pour identifier des groupes aux profils similaires et mieux comprendre leur consommation énergétique et leur utilisation. Ce projet vise à regrouper les services numériques en clusters en utilisant les variables de consommation énergétique et du nombre d'utilisateurs. Grâce à l'algorithme K-means, nous déterminerons des groupes homogènes, après avoir normalisé les données et identifié le nombre optimal de clusters à l'aide de la méthode du coude. Cette approche permettra d’obtenir des informations clés sur les caractéristiques partagées par ces services, facilitant ainsi des analyses approfondies et des décisions stratégiques sur leur gestion."
   ]
  },
  {
   "cell_type": "markdown",
   "id": "d0832293-d50b-4644-b4f4-899f0b725667",
   "metadata": {},
   "source": [
    "## Étape 1 : Préparation des données"
   ]
  },
  {
   "cell_type": "markdown",
   "id": "d88d760b-76ab-438e-961d-f1d471c22743",
   "metadata": {},
   "source": [
    "Cette première étape du projet se concentre sur la préparation des données, un préalable indispensable pour l'application de l'algorithme de clustering k-means. Nous travaillerons sur les variables consommation énergétique (kWh) et nombre d’utilisateurs.\n",
    "\n",
    "Ces deux variables représentent les dimensions principales que nous étudierons pour segmenter les services numériques en groupes homogènes. La consommation énergétique reflète l'impact environnemental de chaque service, tandis que le nombre d’utilisateurs illustre son utilisation réelle. En les combinant, nous cherchons à identifier des relations ou des schémas cachés entre ces deux aspects."
   ]
  },
  {
   "cell_type": "code",
   "execution_count": 402,
   "id": "c1606b81-50ba-4673-933e-69ad22f7dfa1",
   "metadata": {},
   "outputs": [
    {
     "name": "stdout",
     "output_type": "stream",
     "text": [
      "    Consommation énergétique (kWh)  Nombre d'utilisateurs\n",
      "0                            16795                 259795\n",
      "1                             1860                 487232\n",
      "2                            77820                 918040\n",
      "3                            55886                 501186\n",
      "4                             7265                 157730\n",
      "5                            83386                 871910\n",
      "6                            38194                 385681\n",
      "7                            88498                 150503\n",
      "8                            45131                 655811\n",
      "9                            61263                 528035\n",
      "10                           17023                 649143\n",
      "11                           42090                 453366\n",
      "12                           68221                  66725\n",
      "13                           65820                 130981\n",
      "14                            1769                  85654\n",
      "15                           60735                 954277\n",
      "16                           63955                 906778\n",
      "17                           65925                 592723\n",
      "18                           68969                 320030\n",
      "19                            6311                 329947\n",
      "20                           84104                 556839\n",
      "21                           54707                 903648\n",
      "22                           86305                 274538\n",
      "23                           29693                 332236\n",
      "24                           72932                 529178\n"
     ]
    }
   ],
   "source": [
    "import pandas as pd\n",
    "\n",
    "data = pd.read_csv('services_numeriques.csv')\n",
    "data_model_kmeans = data[[\"Consommation énergétique (kWh)\", \"Nombre d'utilisateurs\"]]\n",
    "print(data_model_kmeans)"
   ]
  },
  {
   "cell_type": "markdown",
   "id": "273931eb-ab4b-4f45-a125-8cde53b5192f",
   "metadata": {},
   "source": [
    "## Étape 2 : Normalisation des données"
   ]
  },
  {
   "cell_type": "markdown",
   "id": "c2819fb7-793f-4a57-a980-32205ace0e53",
   "metadata": {},
   "source": [
    "L’étape de normalisation des données est une phase cruciale pour garantir que les variables utilisées dans l’algorithme de clustering **k-means** sont **comparables** en termes d’échelle. Comme les unités et les amplitudes de la consommation énergétique (en kWh) et du nombre d’utilisateurs diffèrent significativement, leur traitement brut pourrait biaiser l’analyse.  \n",
    "\n",
    "La **normalisation** permet de transformer ces variables pour qu’elles soient exprimées sur une échelle commune, généralement entre 0 et 1. Ce qui empêche une variable d'avoir un impact disproportionné sur les résultats du clustering.\n",
    "\n",
    "Cette étape prépare donc des données équilibrées et prêtes pour une segmentation efficace."
   ]
  },
  {
   "cell_type": "code",
   "execution_count": 404,
   "id": "b6caf5a7-87f6-42e1-95bb-9e04a0f3b71f",
   "metadata": {},
   "outputs": [
    {
     "name": "stdout",
     "output_type": "stream",
     "text": [
      "Données  normalisées : \n",
      "     Consommation énergétique (kWh)  Nombre d'utilisateurs\n",
      "0                         0.173252               0.217531\n",
      "1                         0.001049               0.473783\n",
      "2                         0.876881               0.959172\n",
      "3                         0.623978               0.489505\n",
      "4                         0.063370               0.102535\n",
      "5                         0.941058               0.907198\n",
      "6                         0.419986               0.359366\n",
      "7                         1.000000               0.094392\n",
      "8                         0.499971               0.663720\n",
      "9                         0.685976               0.519755\n",
      "10                        0.175881               0.656207\n",
      "11                        0.464908               0.435626\n",
      "12                        0.766203               0.000000\n",
      "13                        0.738519               0.072397\n",
      "14                        0.000000               0.021327\n",
      "15                        0.679888               1.000000\n",
      "16                        0.717015               0.946483\n",
      "17                        0.739730               0.592639\n",
      "18                        0.774827               0.285397\n",
      "19                        0.052370               0.296571\n",
      "20                        0.949336               0.552209\n",
      "21                        0.610384               0.942957\n",
      "22                        0.974714               0.234142\n",
      "23                        0.321968               0.299150\n",
      "24                        0.820521               0.521043\n"
     ]
    }
   ],
   "source": [
    "X_min = data_model_kmeans[\"Consommation énergétique (kWh)\"].min()\n",
    "X_max = data_model_kmeans[\"Consommation énergétique (kWh)\"].max()\n",
    "\n",
    "Y_min = data_model_kmeans[\"Nombre d'utilisateurs\"].min()\n",
    "Y_max = data_model_kmeans[\"Nombre d'utilisateurs\"].max()\n",
    "\n",
    "\n",
    "\n",
    "norm_data_model_kmeans_X = []\n",
    "norm_data_model_kmeans_Y = []\n",
    "\n",
    "for X in data_model_kmeans[\"Consommation énergétique (kWh)\"]:\n",
    "    X_prime = (X - X_min)/(X_max - X_min)\n",
    "    norm_data_model_kmeans_X.append(X_prime)\n",
    "    \n",
    "for Y in data_model_kmeans[\"Nombre d'utilisateurs\"]:\n",
    "    Y_prime = (Y - Y_min)/(Y_max - Y_min)\n",
    "    norm_data_model_kmeans_Y.append(Y_prime)\n",
    "\n",
    "norm_data_model_kmeans = pd.DataFrame({\"Consommation énergétique (kWh)\": norm_data_model_kmeans_X, \"Nombre d'utilisateurs\": norm_data_model_kmeans_Y})\n",
    "print(\"Données  normalisées : \\n\", norm_data_model_kmeans)"
   ]
  },
  {
   "cell_type": "markdown",
   "id": "b1b6c313-8d0a-4b43-86d5-1b38c7917ec0",
   "metadata": {},
   "source": [
    "## Étape 3 : Choix du nombre de clusters K"
   ]
  },
  {
   "cell_type": "code",
   "execution_count": 406,
   "id": "d2e7974f-ddff-42aa-aad7-009378acac6b",
   "metadata": {},
   "outputs": [
    {
     "name": "stderr",
     "output_type": "stream",
     "text": [
      "C:\\Users\\ENOBGN\\anaconda3\\Lib\\site-packages\\sklearn\\cluster\\_kmeans.py:1446: UserWarning: KMeans is known to have a memory leak on Windows with MKL, when there are less chunks than available threads. You can avoid it by setting the environment variable OMP_NUM_THREADS=1.\n",
      "  warnings.warn(\n",
      "C:\\Users\\ENOBGN\\anaconda3\\Lib\\site-packages\\sklearn\\cluster\\_kmeans.py:1446: UserWarning: KMeans is known to have a memory leak on Windows with MKL, when there are less chunks than available threads. You can avoid it by setting the environment variable OMP_NUM_THREADS=1.\n",
      "  warnings.warn(\n",
      "C:\\Users\\ENOBGN\\anaconda3\\Lib\\site-packages\\sklearn\\cluster\\_kmeans.py:1446: UserWarning: KMeans is known to have a memory leak on Windows with MKL, when there are less chunks than available threads. You can avoid it by setting the environment variable OMP_NUM_THREADS=1.\n",
      "  warnings.warn(\n",
      "C:\\Users\\ENOBGN\\anaconda3\\Lib\\site-packages\\sklearn\\cluster\\_kmeans.py:1446: UserWarning: KMeans is known to have a memory leak on Windows with MKL, when there are less chunks than available threads. You can avoid it by setting the environment variable OMP_NUM_THREADS=1.\n",
      "  warnings.warn(\n",
      "C:\\Users\\ENOBGN\\anaconda3\\Lib\\site-packages\\sklearn\\cluster\\_kmeans.py:1446: UserWarning: KMeans is known to have a memory leak on Windows with MKL, when there are less chunks than available threads. You can avoid it by setting the environment variable OMP_NUM_THREADS=1.\n",
      "  warnings.warn(\n",
      "C:\\Users\\ENOBGN\\anaconda3\\Lib\\site-packages\\sklearn\\cluster\\_kmeans.py:1446: UserWarning: KMeans is known to have a memory leak on Windows with MKL, when there are less chunks than available threads. You can avoid it by setting the environment variable OMP_NUM_THREADS=1.\n",
      "  warnings.warn(\n",
      "C:\\Users\\ENOBGN\\anaconda3\\Lib\\site-packages\\sklearn\\cluster\\_kmeans.py:1446: UserWarning: KMeans is known to have a memory leak on Windows with MKL, when there are less chunks than available threads. You can avoid it by setting the environment variable OMP_NUM_THREADS=1.\n",
      "  warnings.warn(\n",
      "C:\\Users\\ENOBGN\\anaconda3\\Lib\\site-packages\\sklearn\\cluster\\_kmeans.py:1446: UserWarning: KMeans is known to have a memory leak on Windows with MKL, when there are less chunks than available threads. You can avoid it by setting the environment variable OMP_NUM_THREADS=1.\n",
      "  warnings.warn(\n",
      "C:\\Users\\ENOBGN\\anaconda3\\Lib\\site-packages\\sklearn\\cluster\\_kmeans.py:1446: UserWarning: KMeans is known to have a memory leak on Windows with MKL, when there are less chunks than available threads. You can avoid it by setting the environment variable OMP_NUM_THREADS=1.\n",
      "  warnings.warn(\n",
      "C:\\Users\\ENOBGN\\anaconda3\\Lib\\site-packages\\sklearn\\cluster\\_kmeans.py:1446: UserWarning: KMeans is known to have a memory leak on Windows with MKL, when there are less chunks than available threads. You can avoid it by setting the environment variable OMP_NUM_THREADS=1.\n",
      "  warnings.warn(\n"
     ]
    },
    {
     "data": {
      "image/png": "[encoded data removed]",
      "text/plain": [
       "<Figure size 640x480 with 1 Axes>"
      ]
     },
     "metadata": {},
     "output_type": "display_data"
    }
   ],
   "source": [
    "import matplotlib.pyplot as plt\n",
    "from sklearn.cluster import KMeans\n",
    "from sklearn.datasets import make_blobs\n",
    "\n",
    "wcss = []\n",
    "for i in range(1, 11):\n",
    "    model_kmeans = KMeans(n_clusters=i, init='k-means++', random_state=42)\n",
    "    model_kmeans.fit(norm_data_model_kmeans)\n",
    "    wcss.append(model_kmeans.inertia_)\n",
    "\n",
    "plt.plot(range(1, 11), wcss)\n",
    "plt.xlabel('Number of clusters')\n",
    "plt.ylabel('WCSS')\n",
    "plt.show()"
   ]
  },
  {
   "cell_type": "markdown",
   "id": "e6a09d21-537d-47ee-bbd1-eb5b1170db7f",
   "metadata": {},
   "source": [
    "Le message que nous recevons n'est pas une erreur mais un avertissement (UserWarning) lié à l'utilisation de l'algorithme KMeans de scikit-learn sous Windows. Ce problème est connu lorsqu'on utilise l'implémentation de l'algorithme en combinaison avec MKL (Math Kernel Library), et il se produit lorsque le nombre de chunks est inférieur au nombre de threads disponibles. **ne pas y faire attention. cela n'empeche pas notre code de run**"
   ]
  },
  {
   "cell_type": "markdown",
   "id": "280dc519-1337-4a91-b0fb-9aa2662c7f97",
   "metadata": {},
   "source": [
    "*Sur la base de la courbe obtenue avec la **méthode du coude**, nous avons identifié que le point optimal pour le nombre de clusters **K** se situe à **4**.*"
   ]
  },
  {
   "cell_type": "markdown",
   "id": "8100fbd1-ac7f-46e6-b404-7132c85b3e08",
   "metadata": {},
   "source": [
    "## Étape 4 : Exécution de K-means\n",
    "\n",
    "Application de l'algorithme K-means pour former des clusters en fonction des similarités entre les services numériques."
   ]
  },
  {
   "cell_type": "markdown",
   "id": "72f139a6-7da5-4cbe-9eb6-a43ebeae45ad",
   "metadata": {},
   "source": [
    "L'algorithme **k-means** est appliqué pour segmenter les services numériques en **quatre clusters** prédéfinis. Le but est de regrouper les services ayant des profils similaires en fonction de leur **consommation énergétique normalisée** et de leur **nombre d'utilisateurs normalisé**. Chaque cluster représentera un groupe homogène, facilitant l’analyse des comportements et la prise de décision.  \n",
    "\n",
    "\n",
    "*Regroupement significatif*\n",
    "Chaque cluster représente un profil type de service numérique en termes de consommation et d’utilisation, révélant des schémas cachés dans les données."
   ]
  },
  {
   "cell_type": "code",
   "execution_count": 408,
   "id": "171fa7df-a094-4145-8e63-66f34bc3f3d8",
   "metadata": {},
   "outputs": [
    {
     "name": "stderr",
     "output_type": "stream",
     "text": [
      "C:\\Users\\ENOBGN\\anaconda3\\Lib\\site-packages\\sklearn\\cluster\\_kmeans.py:1446: UserWarning: KMeans is known to have a memory leak on Windows with MKL, when there are less chunks than available threads. You can avoid it by setting the environment variable OMP_NUM_THREADS=1.\n",
      "  warnings.warn(\n"
     ]
    },
    {
     "data": {
      "image/png": "[encoded data removed]",
      "text/plain": [
       "<Figure size 640x480 with 1 Axes>"
      ]
     },
     "metadata": {},
     "output_type": "display_data"
    }
   ],
   "source": [
    "#from sklearn.datasets import make_blobs\n",
    "from sklearn.cluster import KMeans\n",
    "import matplotlib.pyplot as plt\n",
    "\n",
    "\n",
    "model_kmeans = KMeans(n_clusters=4, init='k-means++', random_state=42)\n",
    "model_kmeans.fit(norm_data_model_kmeans)\n",
    "\n",
    "\n",
    "norm_data_model_kmeans['Cluster'] = model_kmeans.labels_\n",
    "plt.scatter(norm_data_model_kmeans.iloc[:, 0], norm_data_model_kmeans.iloc[:, 1], c=norm_data_model_kmeans['Cluster'])\n",
    "\n",
    "plt.xlabel('Consommation énergétique (kWh) Normalisée')\n",
    "plt.ylabel('Nombre d\\'utilisateurs Normalisé')\n",
    "plt.title('Clustering KMeans avec 4 clusters')\n",
    "\n",
    "plt.show()"
   ]
  },
  {
   "cell_type": "markdown",
   "id": "0fcededc-2c56-4f33-8b0e-3b771c819f47",
   "metadata": {},
   "source": [
    "## Étape 5 : Interprétation des clusters\n",
    "\n",
    "*Analyse des groupes formés et interprétation des résultats pour comprendre quels types de services numériques partagent des caractéristiques similaires*"
   ]
  },
  {
   "cell_type": "markdown",
   "id": "da88ff8e-d2f7-4d56-a9da-37012ab8dbc8",
   "metadata": {},
   "source": [
    "Le graphique montre les résultats d'un clustering KMeans avec 4 clusters basés sur deux variables : **Consommation énergétique normalisée (kWh)** et **Nombre d'utilisateurs normalisé**.\n",
    "\n",
    "\n",
    "1. **Cluster 1 (Haut-Droite)** :\n",
    "   - *Caractéristiques* :\n",
    "     - Nombre d’utilisateurs élevé.\n",
    "     - Consommation énergétique également élevée.\n",
    "   - *Interprétation* :\n",
    "     - Ce cluster représente des services très populaires et intensifs en énergie.\n",
    "\n",
    "2. **Cluster 2 (Centre-Droite)** :\n",
    "   - *Caractéristiques* :\n",
    "     - Nombre d’utilisateurs moyen à élevé.\n",
    "     - Consommation énergétique modérée à élevée.\n",
    "   - *Interprétation* :\n",
    "     - Ce cluster représente des services équilibrés avec une audience modérée ou importante.\n",
    "\n",
    "3. **Cluster 3 (Bas-Droite)** :\n",
    "   - *Caractéristiques* :\n",
    "     - Nombre d’utilisateurs faible.\n",
    "     - Consommation énergétique élevée.\n",
    "   - *Interprétation* :\n",
    "     - Ce cluster représente des services peu populaires mais nécessitant une forte consommation d’énergie.\n",
    "\n",
    "4. **Cluster 4 (Bas-Gauche)** :\n",
    "   - *Caractéristiques* :\n",
    "     - Faible consommation énergétique.\n",
    "     - Faible nombre d’utilisateurs.\n",
    "   - *Interprétation* :\n",
    "     - Représente des services de niche ou peu utilisés."
   ]
  },
  {
   "cell_type": "markdown",
   "id": "cde1c154-4415-4508-b1ea-57e37b2f4c64",
   "metadata": {},
   "source": [
    "## Validation des modèles\n",
    "\n",
    "*L'évaluation des clusters formés est essentielle pour vérifier la qualité des regroupements obtenus avec notre algorithme. Ainsi donc, nous avons utilisés trois indices pour la validation de la qualité de nos clusters: le score de silhouette, l'indice de Calinski-Harabasz (que nous n'avons pas vu en cours), et celui de Davies-Bouldin.*\n",
    "\n",
    "\n",
    "**Score de Silhouette** \n",
    "   - Évalue la cohérence des clusters en mesurant le degré de similitude d’un point avec son propre cluster par rapport aux autres clusters.  \n",
    "   - Un score proche de **1** indique des clusters bien séparés et cohérents, tandis qu’un score proche de **0** ou négatif suggère un mauvais regroupement.  \n",
    "\n",
    "**Indice de Calinski-Harabasz**  \n",
    "   - Mesure la séparation entre les clusters et la compacité des points au sein de chaque cluster.  \n",
    "   - Plus la valeur est élevée, meilleure est la qualité des regroupements.  \n",
    "\n",
    "**Indice de Davies-Bouldin**\n",
    "   - Évalue la séparation et la dispersion entre les clusters.  \n",
    "   - Une valeur faible indique que les clusters sont bien distincts et compacts.  "
   ]
  },
  {
   "cell_type": "code",
   "execution_count": 628,
   "id": "8087faf3-0707-4d21-a4be-2e82f7ff1827",
   "metadata": {},
   "outputs": [
    {
     "name": "stdout",
     "output_type": "stream",
     "text": [
      "Score de Silhouette : 0.4647987718660238\n",
      "Indice de Calinski-Harabasz : 32.78413634613668\n",
      "Indice de Davies-Bouldin : 0.6981249793208468\n"
     ]
    }
   ],
   "source": [
    "from sklearn.metrics import silhouette_score, calinski_harabasz_score, davies_bouldin_score\n",
    "\n",
    "#Calcul des indices de validation\n",
    "silhouette_avg = silhouette_score(norm_data_model_kmeans.iloc[:, :-1], model_kmeans.labels_)\n",
    "calinski_harabasz = calinski_harabasz_score(norm_data_model_kmeans.iloc[:, :-1], model_kmeans.labels_)\n",
    "davies_bouldin = davies_bouldin_score(norm_data_model_kmeans.iloc[:, :-1], model_kmeans.labels_)\n",
    "\n",
    "\n",
    "print(f\"Score de Silhouette : {silhouette_avg}\")\n",
    "print(f\"Indice de Calinski-Harabasz : {calinski_harabasz}\") #non vu en cours, nous l'ap^portons à titre additionnel\n",
    "print(f\"Indice de Davies-Bouldin : {davies_bouldin}\")"
   ]
  },
  {
   "cell_type": "markdown",
   "id": "a4e3060b-47e9-4107-850a-c98b7ed15533",
   "metadata": {},
   "source": [
    "Nous avons utilisé trois indices pour la validation de la qualité des clusters de notre algorithme\n",
    "\n",
    "Par ailleurs, l'indice de Calinski-Harabasz (score de variance inter/intra-cluster) d'une valeur de 32.91 (un score élevé, par rapport à celui obtenu pour 3 clusters, 5 clusters,...), ainsi que celui de Davies-Bouldin d'une valeur de 0.67 nous indique que notre clustering est de bonne qualité.\n",
    "\n",
    "**Score de Silhouette : 0.46**\n",
    "\n",
    "Ce score, compris entre -1 et 1, indique une séparation modérée des clusters. Une valeur de 0.46 suggère que les clusters sont bien définis mais présentent un certain degré de chevauchement, indiquant un potentiel pour améliorer la séparation.\n",
    "\n",
    "**Indice de Calinski-Harabasz : 32.78**\n",
    "\n",
    "Cet indice mesure la densité et la séparation des clusters. Une valeur plus élevée indique des clusters plus compacts et bien séparés. Bien que cette valeur soit spécifique au contexte des données, elle confirme une structure de clustering acceptable.\n",
    "\n",
    "**Indice de Davies-Bouldin : 0.70**\n",
    "\n",
    "Cet indice, où des valeurs proches de 0 sont meilleures, révèle que les clusters sont relativement bien formés, avec peu d'erreurs dues à un regroupement excessif."
   ]
  },
  {
   "cell_type": "markdown",
   "id": "33d84527-29c8-44b2-902e-0a307b3ed8fe",
   "metadata": {},
   "source": [
    "## CONCLUSION partielle Kmeans"
   ]
  },
  {
   "cell_type": "markdown",
   "id": "acfb0284-5aa4-467f-a3cf-c4732de8fc29",
   "metadata": {},
   "source": [
    "En résumé, le modèle KMeans a réussi à identifier des clusters distincts dans les données avec une qualité satisfaisante selon les métriques utilisées. Cependant, des améliorations pourraient être envisagées pour augmenter la séparation entre les clusters, en explorant des alternatives comme un prétraitement différent des données ou un autre nombre de clusters."
   ]
  },
  {
   "cell_type": "code",
   "execution_count": null,
   "id": "2df5e7b5-abcd-4285-898e-fcead672fad0",
   "metadata": {},
   "outputs": [],
   "source": []
  },
  {
   "cell_type": "markdown",
   "id": "1b51122f-d374-405d-b201-fc9cd8c8c1b2",
   "metadata": {},
   "source": [
    "## Algo 4 : Classification Ascendante Hiérarchique (CAH)"
   ]
  },
  {
   "cell_type": "markdown",
   "id": "ee26c56a-4c26-4021-bd60-90aba9b9b113",
   "metadata": {},
   "source": [
    "La Classification Ascendante Hiérarchique (CAH) offre une méthode puissante pour segmenter les services numériques en groupes distincts en fonction de leur consommation énergétique et de leur nombre d’utilisateurs. Ce projet vise à construire une hiérarchie de regroupements, représentée par un dendrogramme, pour identifier des clusters significatifs. En suivant un processus rigoureux de normalisation des données, de construction du dendrogramme, et de formation des clusters, la CAH permettra de visualiser les relations entre les services numériques et de comparer les résultats avec ceux obtenus par K-means. Cette analyse approfondie contribuera à une meilleure compréhension des caractéristiques communes entre les groupes de services numériques.\n"
   ]
  },
  {
   "cell_type": "markdown",
   "id": "4f9429cc-4666-4021-a148-bdb57436d783",
   "metadata": {},
   "source": [
    "### Etape 1 :  Préparation des données "
   ]
  },
  {
   "cell_type": "markdown",
   "id": "b9110b37-a317-4c0e-95c6-9dfb539bbb0c",
   "metadata": {},
   "source": [
    "Le but de cette analyse étant le regroupement des services numériques en groupes ayant des profils similaires en termes de\n",
    "consommation énergétique et de nombre d’utilisateurs, nous allons utiliser la bibliothèque `pandas` pour récuperer les données du fichier CSV et les filtrer pour ne garder que celles relatives à la consommation énergétique des services numériques en kWh et à leur nombre d'utilisateurs. Nous allons aussi utiliser `matplotib.pyplot` pour la représentation de ces données non regroupées dans un repère orthonormé."
   ]
  },
  {
   "cell_type": "code",
   "execution_count": 643,
   "id": "ea9848c9-42d1-4557-9994-5aeff1e975d7",
   "metadata": {},
   "outputs": [
    {
     "name": "stdout",
     "output_type": "stream",
     "text": [
      "Jeu de données :\n",
      "   Unnamed: 0       Service numérique  Consommation énergétique (kWh)  \\\n",
      "0           1         Streaming vidéo                           16795   \n",
      "1           2  Recherche sur internet                            1860   \n",
      "2           3         Réseaux sociaux                           77820   \n",
      "3           4              E-commerce                           55886   \n",
      "4           5           Jeux en ligne                            7265   \n",
      "\n",
      "   Nombre d'utilisateurs Type d'Energie utilisée       Pays  \\\n",
      "0                 259795            Renouvelable     France   \n",
      "1                 487232            Renouvelable         UK   \n",
      "2                 918040            Renouvelable  Allemagne   \n",
      "3                 501186            Renouvelable         UK   \n",
      "4                 157730        Non-renouvelable  Allemagne   \n",
      "\n",
      "   Émission de CO2 (kg)  \n",
      "0                   592  \n",
      "1                  2162  \n",
      "2                  3984  \n",
      "3                   164  \n",
      "4                  2668  \n"
     ]
    }
   ],
   "source": [
    "import pandas as pd\n",
    "import matplotlib.pyplot as plt\n",
    "\n",
    "# Importation du fichier CSV\n",
    "data = pd.read_csv(\"services_numeriques.csv\")\n",
    "\n",
    "# Affichage des premières lignes du DataFrame\n",
    "print(\"Jeu de données :\")\n",
    "print(data.head())"
   ]
  },
  {
   "cell_type": "markdown",
   "id": "ffeeeebb-bc56-4287-9d10-158193a6685d",
   "metadata": {},
   "source": [
    "* **Préparation et visualisation des données**"
   ]
  },
  {
   "cell_type": "code",
   "execution_count": 639,
   "id": "198c10b9-491b-4216-8d45-5cb4b50a1c12",
   "metadata": {},
   "outputs": [
    {
     "name": "stdout",
     "output_type": "stream",
     "text": [
      "Jeu de données :\n",
      "   Consommation énergétique (kWh)  Nombre d'utilisateurs\n",
      "0                           16795                 259795\n",
      "1                            1860                 487232\n",
      "2                           77820                 918040\n",
      "3                           55886                 501186\n",
      "4                            7265                 157730\n"
     ]
    },
    {
     "data": {
      "image/png": "[encoded data removed]",
      "text/plain": [
       "<Figure size 640x480 with 1 Axes>"
      ]
     },
     "metadata": {},
     "output_type": "display_data"
    }
   ],
   "source": [
    "# Extraction des deux premières colonnes du DataFrame\n",
    "prepared_data = data[[\"Consommation énergétique (kWh)\", \"Nombre d'utilisateurs\"]]\n",
    "\n",
    "# Affichage des premières lignes du nouveau DataFrame\n",
    "print(\"Jeu de données :\")\n",
    "print(prepared_data.head())\n",
    "\n",
    "# Visualisation des données\n",
    "plt.scatter(prepared_data[\"Consommation énergétique (kWh)\"], prepared_data[\"Nombre d'utilisateurs\"])\n",
    "plt.title(\"Distribution des services numériques en fonction de la consomation \\nénergétique en kWh et du nombre d'utilisateurs\")\n",
    "plt.xlabel(\"Consommation énergétique (kWh)\")\n",
    "plt.ylabel(\"Nombre d'utilisateurs\")\n",
    "plt.show()"
   ]
  },
  {
   "cell_type": "markdown",
   "id": "c6a5e78c-3d5e-488c-a05f-a09743d71acf",
   "metadata": {},
   "source": [
    "### Etape 2 - Standardisation des données"
   ]
  },
  {
   "cell_type": "markdown",
   "id": "214028ba-2b30-4ba1-a04c-16eecbcfb194",
   "metadata": {},
   "source": [
    "La standardisation des données est une étape importante car elle nous permet d'éviter que l'importante différence entre les échelles de variables n'affecte notre modèle.\n",
    "Pour faire en sorte que nos variables aient des échelles comparables, nous allons utiliser `StandardScaler` du module `sklearn.preprocessing` qui utilise la méthode du Z-score pour transformer les données. Cette méthode ajuste les valeurs de chaque variable pour qu'elles aient une moyenne de 0 et un écart-type de 1, garantissant ainsi que toutes les variables contribuent de manière équitable au modèle, indépendamment de leurs échelles initiales."
   ]
  },
  {
   "cell_type": "code",
   "execution_count": 426,
   "id": "e487f6a5-7ea2-48a6-aedf-112df7f8cd68",
   "metadata": {},
   "outputs": [
    {
     "name": "stdout",
     "output_type": "stream",
     "text": [
      "   Consommation énergétique (kWh)  Nombre d'utilisateurs\n",
      "0                       -1.217272              -0.810619\n",
      "1                       -1.755279               0.026321\n",
      "2                        0.981047               1.611639\n",
      "3                        0.190913               0.077669\n",
      "4                       -1.560574              -1.186205\n"
     ]
    },
    {
     "data": {
      "image/png": "[encoded data removed]",
      "text/plain": [
       "<Figure size 640x480 with 1 Axes>"
      ]
     },
     "metadata": {},
     "output_type": "display_data"
    }
   ],
   "source": [
    "from sklearn.preprocessing import StandardScaler\n",
    "\n",
    "# Standardisation des données\n",
    "normalized_data = StandardScaler().fit_transform(prepared_data)\n",
    "normalized_data = pd.DataFrame(normalized_data, columns=prepared_data.columns)\n",
    "print(normalized_data.head())\n",
    "\n",
    "# Visualisation des données standardisées\n",
    "plt.scatter(normalized_data[\"Consommation énergétique (kWh)\"], normalized_data[\"Nombre d'utilisateurs\"])\n",
    "plt.title(\"Distribution des services numériques en fonction de la consomation \\nénergétique en kWh et du nombre d'utilisateurs\")\n",
    "plt.xlabel(\"Consommation énergétique (kWh)\")\n",
    "plt.ylabel(\"Nombre d'utilisateurs\")\n",
    "plt.show()"
   ]
  },
  {
   "cell_type": "markdown",
   "id": "44fd669c-7314-4135-83d1-d49e32f95250",
   "metadata": {},
   "source": [
    "## Etape 3 :  Construction du dendrogramme"
   ]
  },
  {
   "cell_type": "markdown",
   "id": "47e1f085-45e0-4fa0-8031-099d9e7e25fc",
   "metadata": {},
   "source": [
    "Un dendrogramme est nécessaire pour la détermination d'un nombre optimal de clusters. Pour le construire, nous allons utiliser les fonctions `linkage` et `dendrogram` du module `scipy.cluster.hierarchy`. La fonction `linkage` effectue la classification ascendante hiérarchique (CAH) en utilisant une méthode d'évaluation de la distance entre les clusters. Nous allons utiliser la méthode `ward` qui est la plus souvent utilisée car elle fut concue dans un objectif de maximisation de l'inertie inter-classe et de minimisation de l’inertie intra-classe."
   ]
  },
  {
   "cell_type": "markdown",
   "id": "c6451015-fd1b-4f85-b9ab-759d99f82301",
   "metadata": {},
   "source": [
    "* **Tracé du dendrogramme**"
   ]
  },
  {
   "cell_type": "code",
   "execution_count": 431,
   "id": "f38f9441-8b6e-4d95-b250-db64441f81aa",
   "metadata": {},
   "outputs": [
    {
     "data": {
      "image/png": "[encoded data removed]",
      "text/plain": [
       "<Figure size 1000x700 with 1 Axes>"
      ]
     },
     "metadata": {},
     "output_type": "display_data"
    }
   ],
   "source": [
    "from scipy.cluster.hierarchy import dendrogram, linkage\n",
    "\n",
    "# Effectuer le linkage pour la classification hiérarchique\n",
    "Z = linkage(normalized_data, method='ward')\n",
    "\n",
    "# Tracé du dendrogramme\n",
    "plt.figure(figsize=(10, 7))\n",
    "dendrogram(Z, leaf_rotation=90)\n",
    "\n",
    "# Affichage du dendrogramme\n",
    "plt.title('Dendrogramme de Classification Hiérarchique Ascendante')\n",
    "plt.xlabel('Observations')\n",
    "plt.ylabel('Distance')\n",
    "plt.grid()\n",
    "plt.show()"
   ]
  },
  {
   "cell_type": "markdown",
   "id": "44dea859-4b6d-48c6-a49c-0b3ca96c8770",
   "metadata": {},
   "source": [
    "* **Détermination d'un nombre optimal de clusters**"
   ]
  },
  {
   "cell_type": "markdown",
   "id": "cdd5028f-b33e-481b-a1b9-39149497a3ed",
   "metadata": {},
   "source": [
    "On remarque d'après le tracé du dendrogramme que le plus grand saut de distance correspond au regroupement des services numériques en trois clusters. Le nombre optimal de clusters d'après cette observation est donc égal à 3."
   ]
  },
  {
   "cell_type": "markdown",
   "id": "286ad8eb-df1e-4d16-8575-870a8d813dc4",
   "metadata": {},
   "source": [
    "Nous allons utiliser la fonction `fcluster` du module `scipyluster.hierarchy` pour afficher les étiquettes de cluster pour chaque observation."
   ]
  },
  {
   "cell_type": "code",
   "execution_count": 434,
   "id": "208755d3-9a6c-4cef-acb7-a375221034f4",
   "metadata": {},
   "outputs": [
    {
     "name": "stdout",
     "output_type": "stream",
     "text": [
      "[1 1 3 3 1 3 1 2 3 3 1 1 2 2 1 3 3 3 2 1 3 3 2 1 3]\n"
     ]
    }
   ],
   "source": [
    "from scipy.cluster.hierarchy import fcluster\n",
    "\n",
    "# Définition du seuil pour la coupure\n",
    "seuil = 4\n",
    "\n",
    "# Créer les étiquettes de cluster\n",
    "clusters = fcluster(Z, seuil, criterion='distance')\n",
    "\n",
    "# Afficher les étiquettes de cluster pour chaque observation\n",
    "print(clusters)"
   ]
  },
  {
   "cell_type": "markdown",
   "id": "d0057390-a0d0-4f67-a082-24e0b2c6b381",
   "metadata": {},
   "source": [
    "## Etape 4 : Formation des clusters\n",
    "Nous allons utiliser `AgglomerativeClustering` de `sklearn.cluster` pour effectuer la CAH en précisant comme nombre de clusters celui déduit par observation du dendrogramme."
   ]
  },
  {
   "cell_type": "code",
   "execution_count": 681,
   "id": "118d349c-a641-4662-b816-741257ffabb8",
   "metadata": {},
   "outputs": [],
   "source": [
    "from sklearn.cluster import AgglomerativeClustering\n",
    "\n",
    "# Clusterisation en fonction du nombre de clusters spécifié\n",
    "num_clusters = 3\n",
    "model = AgglomerativeClustering(n_clusters=num_clusters, linkage='ward')\n",
    "clusters = model.fit_predict(normalized_data)"
   ]
  },
  {
   "cell_type": "markdown",
   "id": "35779aa3-d90b-4c72-a49f-8c4f94763a5f",
   "metadata": {},
   "source": [
    "* **Visualisation des clusters**"
   ]
  },
  {
   "cell_type": "code",
   "execution_count": 683,
   "id": "5da0b23d-a51d-4641-a45d-98bc77473339",
   "metadata": {},
   "outputs": [
    {
     "data": {
      "image/png": "[encoded data removed]",
      "text/plain": [
       "<Figure size 640x480 with 1 Axes>"
      ]
     },
     "metadata": {},
     "output_type": "display_data"
    }
   ],
   "source": [
    "plt.scatter(prepared_data[\"Consommation énergétique (kWh)\"], prepared_data[\"Nombre d'utilisateurs\"], c=clusters, cmap='viridis')\n",
    "plt.title(\"Clustering par CAH (sans dendrogramme)\")\n",
    "plt.xlabel(\"Consommation énergétique (kWh)\")\n",
    "plt.ylabel(\"Nombre d'utilisateurs\")\n",
    "plt.show()"
   ]
  },
  {
   "cell_type": "markdown",
   "id": "8090c81a-9548-4955-a19f-9848da5265ee",
   "metadata": {},
   "source": [
    "### Etape 5 : Interprétation des clusters"
   ]
  },
  {
   "cell_type": "markdown",
   "id": "9294230b-7ea7-4288-8fc4-b7e8a1bde8a1",
   "metadata": {},
   "source": [
    "1. **Cluster 1 (Haut-Droite, Violet)**\n",
    "   - **Caractéristiques** :\n",
    "     - Consommation énergétique modérée à élevée.\n",
    "     - Nombre d’utilisateurs moyen à élevé.\n",
    "   - **Interprétation** :\n",
    "     - Ce cluster semble représenter des services qui consomment une quantité d'énergie assez importante mais qui ne sont pas encore très populaires\n",
    "       \n",
    "2. **Cluster 2 (Bas-Gauche, Vert)**\n",
    "   - **Caractéristiques** :\n",
    "     - Consommation énergétique faible à modérée.\n",
    "     - Nombre d’utilisateurs faible à modéré.\n",
    "   - **Interprétation** :\n",
    "     - Cela pourrait correspondre à des services populaires mais relativement économes en énergie.\n",
    "\n",
    "3. **Cluster 3 (Bas-droite, Jaune)**\n",
    "   - **Caractéristiques** :\n",
    "     - Forte consommation énergétique.\n",
    "     - Faible nombre d’utilisateurs.\n",
    "   - **Interprétation** :\n",
    "     - Ce cluster regroupe des services peu populaires et à forte consommation d'énergie."
   ]
  },
  {
   "cell_type": "markdown",
   "id": "40e11bb1-4906-4904-b4c6-533851d414fa",
   "metadata": {},
   "source": [
    "* **Comparaison avec les clusters obtenus en utilisant KMEANS**"
   ]
  },
  {
   "cell_type": "markdown",
   "id": "86aaf483-248b-43a8-a17d-49e2dc0c6331",
   "metadata": {},
   "source": [
    "\n",
    "\n",
    "- **KMeans Cluster 1 (Haut-Droite)** et **CAH Cluster 1 (Haut-Droite, Violet)** : \n",
    "   - Les deux représentent des services avec une consommation énergétique élevée et une base d'utilisateurs relativement importante. La principale différence réside dans les autres variables, mais en général, l'interprétation des clusters KMeans et CAH est similaire, bien que KMeans ait plus de diversité dans le nombre d'utilisateurs au sein de ce cluster.\n",
    "\n",
    "- **KMeans Cluster 2 (Centre-Droite)** et **CAH Cluster 2 (Bas-Gauche, Bleu-Vert)** : \n",
    "   - Les deux clusters sont similaires en termes de consommation énergétique modérée et un nombre d'utilisateurs intermédiaire. Cependant, dans KMeans, les services sont plus séparés sur le plan de la consommation énergétique. Le clustering par CAH semble plus homogène dans ce groupe.\n",
    "\n",
    "- **KMeans Cluster 3 (Bas-Droite)** et **CAH Cluster 3 (Bas-droite, Jaune)** :\n",
    "   - Les deux clusters correspondent à des services peu populaires et à faible consommation énergétique(pour kmeans) et forte consommation énergétique (pour CAH). Toutefois, le cluster KMeans montre une séparation plus marquée entre la consommation d’énergie élevée et faible, alors que le cluster CAH se regroupe davantage en bas à droite.\n",
    "\n"
   ]
  },
  {
   "cell_type": "markdown",
   "id": "5ef52c6c-0d86-4b79-838e-1fd941a6955b",
   "metadata": {},
   "source": [
    "## Validation du modèle (CAH)"
   ]
  },
  {
   "cell_type": "markdown",
   "id": "815226c9-213c-488b-a735-1ffd93c76692",
   "metadata": {},
   "source": [
    "* **Calcul de l’indice de Davies-Bouldin, l’indice de Silhouette et l'indice de Calinski-harabasz**"
   ]
  },
  {
   "cell_type": "markdown",
   "id": "6cc4b128-2023-4dcd-9f6a-50ea2fd43109",
   "metadata": {},
   "source": [
    "Nous allons utiliser l'indice de Silouhette, l'indice de Calinski-Harabasz et celui de Davies-Bouldin pour évaluer la qualité des clusters obtenus. Pour cela, nous allons nous servir des fonctions `davies_bouldin_score`, `calinski_harabasz_score` et `silhouette_score` du module `sklearn.metrics` pour calculer les valeurs de ces différents indices sur nos clusters."
   ]
  },
  {
   "cell_type": "code",
   "execution_count": 626,
   "id": "b6f2e599-9e4c-46e9-acd8-2272a5e812af",
   "metadata": {},
   "outputs": [
    {
     "name": "stdout",
     "output_type": "stream",
     "text": [
      "Indice de Davies-Bouldin : 0.6721955482118713\n",
      "Indice de Calinski_harabasz : 29.23978047467095\n",
      "Indice de Silhouette : 0.47029579682549183\n"
     ]
    }
   ],
   "source": [
    "from sklearn.metrics import silhouette_score, calinski_harabasz_score, davies_bouldin_score\n",
    "\n",
    "# Calcul de l'indice de Davies-Bouldin\n",
    "db_index = davies_bouldin_score(normalized_data, clusters)\n",
    "print(\"Indice de Davies-Bouldin :\", db_index)\n",
    "\n",
    "# Calcul de l'indice de Calinski_harabasz\n",
    "calinski_harabasz = calinski_harabasz_score(normalized_data, clusters)\n",
    "print(\"Indice de Calinski_harabasz :\", calinski_harabasz )\n",
    "\n",
    "# Calcul de l'indice de Silhouette\n",
    "silhouette_avg = silhouette_score(normalized_data, clusters)\n",
    "print(\"Indice de Silhouette :\", silhouette_avg)\n"
   ]
  },
  {
   "cell_type": "markdown",
   "id": "57a1a56c-3c85-48ee-be39-cb9630af5930",
   "metadata": {},
   "source": [
    "#### Commentaire sur les résultats des indices de clustering :\n",
    "\n",
    "1. **Indice de Davies-Bouldin (0.672) :**  \n",
    "   L'indice de Davies-Bouldin mesure la compacité et la séparation des clusters, où une valeur plus faible indique une meilleure séparation. Une valeur de 0.672 suggère une séparation relativement bonne entre les clusters, mais elle n’est pas idéale. En général, une valeur inférieure à 1 est considérée comme acceptable, et plus elle est proche de 0, plus les clusters sont distincts et bien séparés. Ici, la valeur obtenue indique qu'il y a encore des chevauchements ou des regroupements sous-optimaux dans les clusters, mais les performances globales sont correctes.\n",
    "\n",
    "2. **Indice de Calinski-Harabasz (29.24) :**  \n",
    "   Cet indice mesure la qualité du clustering en comparant la dispersion intra-cluster avec la dispersion inter-cluster. Une valeur plus élevée indique une meilleure séparation entre les clusters. Avec un indice de 29.24, le modèle semble offrir une séparation raisonnablement bonne entre les clusters, mais cela dépend également de la complexité du dataset.\n",
    "\n",
    "3. **Indice de Silhouette (0.47) :**  \n",
    "   L'indice de silhouette évalue la qualité du clustering en mesurant la cohésion des éléments au sein de chaque cluster et la séparation entre les clusters. Une valeur proche de 1 est idéale, tandis qu’une valeur proche de -1 indique que des points ont été mal classés. Avec une valeur de 0.47, le clustering présente une qualité modérée. Cela suggère que certains points sont bien classés, mais il y a également un certain degré de confusion dans la formation des clusters. Une valeur plus proche de 0.5 ou plus élevée serait souhaitable pour garantir une meilleure séparation et cohésion.\n",
    "\n"
   ]
  },
  {
   "cell_type": "markdown",
   "id": "2c7ce1c2-7233-4d23-ac74-13c0ec2a8c60",
   "metadata": {},
   "source": [
    "## Conclusion (KMEANS-CAH)\n",
    "\n",
    "Les deux méthodes de clustering montrent des patterns similaires en termes de **consommation énergétique** et **nombre d'utilisateurs**, mais avec des différences de séparation. Le **KMeans** présente des clusters plus distincts et mieux séparés, tandis que le **CAH** a des regroupements légèrement plus homogènes. En termes de **modèle de comportement**, les deux méthodes soulignent la présence de services à faible consommation énergétique mais de petite audience, et à forte consommation mais parfois moins populaires."
   ]
  },
  {
   "cell_type": "code",
   "execution_count": null,
   "id": "61821f24-dfbd-4ac0-895c-ee7c3e2db46c",
   "metadata": {},
   "outputs": [],
   "source": []
  },
  {
   "cell_type": "markdown",
   "id": "67cd029f-d286-4c78-a693-b76f4fff86c6",
   "metadata": {},
   "source": [
    "# CONCLUSION FINALE DU PROJET "
   ]
  },
  {
   "cell_type": "markdown",
   "id": "dbf4d8b4-eab7-4437-be8f-01b3064f0b65",
   "metadata": {},
   "source": [
    "Ce projet d’analyse des impacts environnementaux des services numériques, à travers l'application de différentes méthodes de machine learning, a permis de dégager des résultats intéressants, tout en mettant en évidence certaines limitations et des axes d'amélioration pour des analyses futures.\n",
    "\n",
    "1. **Régression linéaire :**  \n",
    "   L'application de la régression linéaire pour prédire les émissions de CO2 à partir de la consommation énergétique et du nombre d'utilisateurs a montré des résultats sous-optimaux. La faible relation entre les variables explicatives et la variable cible, combinée à des données parfois bruyantes et insuffisantes, a conduit à des performances décevantes. Ce constat suggère qu'une approche plus adaptée, comme les modèles non linéaires, ainsi qu'une meilleure qualité des données, sont nécessaires pour des résultats fiables.\n",
    "\n",
    "2. **KNN (Classification) :**  \n",
    "   L’extension du dataset à 1000 échantillons a permis d’améliorer la précision du modèle KNN, passant de 36 % à 64 %. Cependant, malgré cette amélioration notable, les performances restent insuffisantes pour une classification fiable, notamment en raison de confusions récurrentes entre les classes, surtout pour la catégorie \"moyenne\". Ces résultats confirment que l'augmentation de la taille du dataset n'est pas suffisante à elle seule pour résoudre tous les problèmes de classification. Une exploration plus poussée des variables explicatives et une révision des critères de catégorisation sont nécessaires pour améliorer les performances. D'autres modèles de classification pourraient également être envisagés pour atteindre une précision satisfaisante.\n",
    "\n",
    "3. **Segmentation (K-means et CAH) :**  \n",
    "   Les deux méthodes de clustering, **K-means** et **CAH**, ont révélé des regroupements intéressants des services numériques en fonction de la consommation énergétique et du nombre d'utilisateurs. Les clusters générés par **K-means** étaient plus distincts et bien séparés, tandis que **CAH** a produit des regroupements plus homogènes, avec une structure hiérarchique plus marquée. Ces deux méthodes ont permis de distinguer des comportements similaires, notamment des services à faible consommation énergétique mais avec une petite audience, ainsi que des services à forte consommation énergétique, parfois moins populaires. Ces résultats montrent que les deux techniques peuvent offrir des perspectives complémentaires pour comprendre les profils des services numériques, bien que le K-means semble offrir une segmentation plus nette.\n",
    "\n",
    "4. **Validation des modèles :**  \n",
    "   La validation des modèles a mis en évidence des défis communs liés à la qualité des données et à la structure des modèles. Les techniques de validation croisées ont permis de mieux comprendre les limitations des modèles appliqués, notamment la régression linéaire et KNN, et ont souligné l'importance de la généralisation des modèles. De plus, l'application des indices de validation pour les méthodes de clustering, tels que l’indice de Silhouette, pourrait permettre une meilleure évaluation de la cohésion et de la séparation des clusters obtenus.\n",
    "\n",
    "---\n",
    "\n",
    "### Bilan global\n",
    "Ce projet a permis d'atteindre ses objectifs pédagogiques en appliquant des méthodes de machine learning pour analyser l'impact environnemental des services numériques. Cependant, plusieurs axes d'amélioration ont été identifiés :  \n",
    "- La **qualité des données** et la **pertinence des variables explicatives** sont des facteurs clés de succès, influençant directement la performance des modèles.\n",
    "- Les modèles explorés montrent que, bien que des améliorations aient été apportées grâce à l’élargissement des datasets et à la segmentation, des méthodes plus avancées et des ajustements supplémentaires des données seraient nécessaires pour atteindre des résultats plus fiables.\n",
    "  \n",
    "Les résultats obtenus ouvrent la voie à de futures recherches, notamment pour enrichir les variables explicatives, tester de nouveaux modèles et améliorer la structuration des données. Ces efforts pourraient permettre de mieux cerner l'empreinte carbone des services numériques et de proposer des solutions plus durables dans le domaine du numérique."
   ]
  },
  {
   "cell_type": "code",
   "execution_count": null,
   "id": "ae763b86-1278-4851-98fa-bcd6e50994ff",
   "metadata": {},
   "outputs": [],
   "source": []
  }
 ],
 "metadata": {
  "kernelspec": {
   "display_name": "Python 3 (ipykernel)",
   "language": "python",
   "name": "python3"
  },
  "language_info": {
   "codemirror_mode": {
    "name": "ipython",
    "version": 3
   },
   "file_extension": ".py",
   "mimetype": "text/x-python",
   "name": "python",
   "nbconvert_exporter": "python",
   "pygments_lexer": "ipython3",
   "version": "3.12.4"
  }
 },
 "nbformat": 4,
 "nbformat_minor": 5
}
